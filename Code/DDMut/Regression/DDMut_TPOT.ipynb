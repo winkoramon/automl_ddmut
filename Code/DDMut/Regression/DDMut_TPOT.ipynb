{
 "cells": [
  {
   "cell_type": "code",
   "execution_count": 1,
   "id": "fdb3a22e-b9fb-43b5-8fad-b4c2c1dc3be9",
   "metadata": {},
   "outputs": [],
   "source": [
    "###TPOT Script for Regression###\n",
    "import numpy as np\n",
    "import pandas as pd\n",
    "from tpot import TPOTRegressor\n",
    "from scipy.stats import pearsonr\n",
    "\n",
    "import warnings\n",
    "warnings.filterwarnings('ignore')"
   ]
  },
  {
   "cell_type": "code",
   "execution_count": 2,
   "id": "0de23811-954f-42f0-b743-c70337f355ac",
   "metadata": {},
   "outputs": [],
   "source": [
    "from sklearn.linear_model import LinearRegression\n",
    "from sklearn.tree import DecisionTreeRegressor\n",
    "from sklearn.ensemble import RandomForestRegressor, GradientBoostingRegressor\n",
    "from sklearn.svm import SVR\n",
    "from xgboost import XGBRegressor\n",
    "from sklearn.model_selection import cross_validate, KFold\n",
    "from sklearn.metrics import mean_squared_error, r2_score"
   ]
  },
  {
   "cell_type": "code",
   "execution_count": 3,
   "id": "e57b8283-3054-4f23-b914-0005aebc7347",
   "metadata": {},
   "outputs": [],
   "source": [
    "#Set Code path \n",
    "alg_path = '/home/korawich/Desktop/AutoML/Algorithm/TPOT'"
   ]
  },
  {
   "cell_type": "code",
   "execution_count": 4,
   "id": "8920b64f-2158-4813-8af3-dc1853b35030",
   "metadata": {},
   "outputs": [],
   "source": [
    "#Datafile\n",
    "data_path = '/home/korawich/Desktop/AutoML/Dataset/DDMut_data/'\n",
    "gbsig_path = '/home/korawich/Desktop/AutoML/Dataset/DDMut_data/Graph-based/'\n",
    "result_path = '/home/korawich/Desktop/AutoML/Dataset/DDMut_data/Results/'\n",
    "final_path = '/home/korawich/Desktop/AutoML/Dataset/DDMut_data/Final/'\n",
    "\n",
    "train_info_path  = final_path + 'train_info.csv'\n",
    "test_1_info_path = final_path + 'test_1_info.csv'\n",
    "test_2_info_path = final_path + 'test_2_info.csv'\n",
    "test_3_info_path = final_path + 'test_3_info.csv'\n",
    "\n",
    "train_X_path  = final_path + 'final_train_X.csv'\n",
    "test_1_X_path = final_path + 'final_test_1_X.csv'\n",
    "test_2_X_path = final_path + 'final_test_2_X.csv'\n",
    "test_3_X_path = final_path + 'final_test_3_X.csv'\n",
    "\n",
    "train_y_path  = final_path + 'train_y.csv'\n",
    "test_1_y_path = final_path + 'test_1_y.csv'\n",
    "test_2_y_path = final_path + 'test_2_y.csv'\n",
    "test_3_y_path = final_path + 'test_3_y.csv'"
   ]
  },
  {
   "cell_type": "code",
   "execution_count": 5,
   "id": "80041f1c-c7df-4b53-9286-c5db3f0bd301",
   "metadata": {},
   "outputs": [],
   "source": [
    "X_train = pd.read_csv(train_X_path, index_col=0)\n",
    "X_test_1 = pd.read_csv(test_1_X_path, index_col=0)\n",
    "X_test_2 = pd.read_csv(test_2_X_path, index_col=0)\n",
    "X_test_3 = pd.read_csv(test_3_X_path, index_col=0)\n",
    "\n",
    "y_train = pd.read_csv(train_y_path, index_col=0)\n",
    "y_test_1 = pd.read_csv(test_1_y_path, index_col=0)\n",
    "y_test_2 = pd.read_csv(test_2_y_path, index_col=0)\n",
    "y_test_3 = pd.read_csv(test_3_y_path, index_col=0)"
   ]
  },
  {
   "cell_type": "code",
   "execution_count": 6,
   "id": "0fc5d34d-d918-49a7-95e2-6cadd3a1e016",
   "metadata": {},
   "outputs": [
    {
     "name": "stdout",
     "output_type": "stream",
     "text": [
      "X_train.shape =  (9028, 896)\n",
      "X_test_1.shape =  (552, 896)\n",
      "X_test_2.shape =  (1304, 896)\n",
      "X_test_3.shape =  (2024, 896)\n"
     ]
    }
   ],
   "source": [
    "print('X_train.shape = ', X_train.shape)\n",
    "print('X_test_1.shape = ', X_test_1.shape)\n",
    "print('X_test_2.shape = ', X_test_2.shape)\n",
    "print('X_test_3.shape = ', X_test_3.shape)"
   ]
  },
  {
   "cell_type": "code",
   "execution_count": 7,
   "id": "017d6717-c1ef-4820-a802-6e5955367a97",
   "metadata": {},
   "outputs": [],
   "source": [
    "#load list of features\n",
    "feat_list_path = '/home/korawich/Desktop/AutoML/Dataset/DDMut_data/Feat_list/'\n",
    "gbsig_feat_list_path = feat_list_path + 'gbsig_feat_list.csv'\n",
    "seq_feat_list_path = feat_list_path + 'seq_feat_list.csv'\n",
    "str_feat_list_path = feat_list_path + 'str_feat_list.csv'\n",
    "\n",
    "all_feat_result_path = result_path + 'tpot_default_params.csv'\n",
    "gbsig_feat_result_path = result_path + 'tpot_default_params_gbsig.csv'\n",
    "seq_feat_result_path = result_path + 'tpot_default_params_seq.csv'\n",
    "str_feat_result_path = result_path + 'tpot_default_params_str.csv'\n",
    "\n",
    "gbs_feat = pd.read_csv(gbsig_feat_list_path, index_col=0)\n",
    "seq_feat = pd.read_csv(seq_feat_list_path, index_col=0)\n",
    "str_feat = pd.read_csv(str_feat_list_path, index_col=0)\n",
    "all_feat = pd.concat([seq_feat, str_feat, gbs_feat], ignore_index=True)"
   ]
  },
  {
   "cell_type": "code",
   "execution_count": 8,
   "id": "8229a177-e6a6-4b76-904e-d28d5be8116f",
   "metadata": {},
   "outputs": [],
   "source": [
    "features_sets = [\n",
    "    #('all_feat', all_feat, all_feat_result_path),\n",
    "    #('seq_feat', seq_feat, seq_feat_result_path),\n",
    "    ('str_feat', str_feat, str_feat_result_path),\n",
    "    #('gbs_feat', gbs_feat, gbsig_feat_result_path)\n",
    "]"
   ]
  },
  {
   "cell_type": "markdown",
   "id": "3d6ea399-ce71-4177-9acd-2aa99223c3f9",
   "metadata": {},
   "source": [
    "2. TPOT"
   ]
  },
  {
   "cell_type": "code",
   "execution_count": 12,
   "id": "b7e218a0-742b-4778-8948-14ac9e2e5969",
   "metadata": {
    "scrolled": true
   },
   "outputs": [
    {
     "ename": "IndentationError",
     "evalue": "unexpected indent (436471827.py, line 54)",
     "output_type": "error",
     "traceback": [
      "\u001b[0;36m  Cell \u001b[0;32mIn[12], line 54\u001b[0;36m\u001b[0m\n\u001b[0;31m    result = []\u001b[0m\n\u001b[0m    ^\u001b[0m\n\u001b[0;31mIndentationError\u001b[0m\u001b[0;31m:\u001b[0m unexpected indent\n"
     ]
    }
   ],
   "source": [
    "#The default parameter is set to be the same as in TPOT_paper\n",
    "for feat_name, feat_list, result_path in features_sets:\n",
    "    print('running - feat_name')\n",
    "    X_train_sel  = X_train[feat_list.values.flatten()]\n",
    "    X_test_1_sel = X_test_1[feat_list.values.flatten()]\n",
    "    X_test_2_sel = X_test_2[feat_list.values.flatten()]\n",
    "    X_test_3_sel = X_test_3[feat_list.values.flatten()]\n",
    "    \n",
    "    tpot = TPOTRegressor(generations=100, population_size=100,\n",
    "                             offspring_size=None, mutation_rate=0.9,\n",
    "                             crossover_rate=0.1,\n",
    "                             scoring='neg_mean_squared_error', cv=5,\n",
    "                             subsample=1.0, n_jobs=-1,\n",
    "                             max_time_mins=None, max_eval_time_mins=5,\n",
    "                             random_state=42, config_dict=None, #The config dict is none, use the default\n",
    "                             template=None,\n",
    "                             warm_start=False,\n",
    "                             memory=None,\n",
    "                             use_dask=False,\n",
    "                             periodic_checkpoint_folder=None,\n",
    "                             early_stop=None,\n",
    "                             verbosity=2,\n",
    "                             disable_update_check=False)\n",
    "    \n",
    "    tpot.fit(X_train, y_train)\n",
    "    #pipeline_save_path = alg_path + '/tpot_digits_pipeline.py'\n",
    "    #tpot.export('tpot_digits_pipeline.py')\n",
    "\n",
    "    #Test in test dataset\n",
    "    y_pred_test_1 = tpot.predict(X_test_1)\n",
    "    rmse_1 = np.sqrt(mean_squared_error(y_test_1, y_pred_test_1))\n",
    "    r2_1 = r2_score(y_test_1, y_pred_test_1)\n",
    "    pearson_corr_1, _ = pearsonr(y_test_1.values.flatten(), y_pred_test_1.flatten())\n",
    "    print('score for test 1 - RMSE = ', rmse_1, ' - R2 = ', r2_1, ' - Pearson = ', pearson_corr_1)\n",
    "    \n",
    "    y_pred_test_2 = tpot.predict(X_test_2)\n",
    "    rmse_2 = np.sqrt(mean_squared_error(y_test_2, y_pred_test_2))\n",
    "    r2_2 = r2_score(y_test_2, y_pred_test_2)\n",
    "    pearson_corr_2, _ = pearsonr(y_test_2.values.flatten(), y_pred_test_2.flatten())\n",
    "    print('score for test 2 - RMSE = ', rmse_2, ' - R2 = ', r2_2, ' - Pearson = ', pearson_corr_2)\n",
    "    \n",
    "    y_pred_test_3 = tpot.predict(X_test_3)\n",
    "    rmse_3 = np.sqrt(mean_squared_error(y_test_3, y_pred_test_3))\n",
    "    r2_3 = r2_score(y_test_3, y_pred_test_3)\n",
    "    pearson_corr_3, _ = pearsonr(y_test_3.values.flatten(), y_pred_test_3.flatten())\n",
    "    print('score for test 3 - RMSE = ', rmse_3, ' - R2 = ', r2_3, ' - Pearson = ', pearson_corr_3)\n",
    "    \n",
    "    #Run 10-fold CV with results params\n",
    "    #TO_DO !\n",
    "    \n",
    "\n",
    "    #Have some code to print out all results as a doc file.\n",
    "    result = []\n",
    "    results.append({\n",
    "            \"Model params\": params,\n",
    "                        \"CV Mean RMSE (10-fold)\": round(np.mean(rmse_scores), 3), \n",
    "                        \"CV Std RMSE (10-fold)\": round(np.std(rmse_scores), 3),\n",
    "                        \"CV Mean R2 (10-fold)\": round(np.mean(r2_scores), 3),\n",
    "                        \"CV Std R2 (10-fold)\": round(np.std(r2_scores), 3),\n",
    "                        \"CV Mean Pearson (10-fold)\": round(np.mean(pearson_corrs), 3),\n",
    "                        \"CV Std Pearson (10-fold)\": round(np.std(pearson_corrs), 3),\n",
    "                        \"Test 1 RMSE\": round(rmse_1, 3),\n",
    "                        \"Test 1 R2\"  : round(R2_1, 3),\n",
    "                        \"Test 1 Pearson\" : round(pearson_corr_1, 3),\n",
    "                        \"Test 2 RMSE\": round(rmse_2, 3),\n",
    "                        \"Test 2 R2\"  : round(R2_2, 3),\n",
    "                        \"Test 2 Pearson\" : round(pearson_corr_2, 3),\n",
    "                        \"Test 3 RMSE\": round(rmse_3, 3),\n",
    "                        \"Test 3 R2\"  : round(R2_3, 3),\n",
    "                        \"Test 3 Pearson\" : round(pearson_corr_3, 3)\n",
    "    })\n",
    "    results_df = pd.DataFrame(results)\n",
    "    results_df.to_csv(result_path)"
   ]
  },
  {
   "cell_type": "code",
   "execution_count": 13,
   "id": "6cf37022-d82f-4335-b3ca-1e0d10ee86e2",
   "metadata": {},
   "outputs": [
    {
     "data": {
      "text/html": [
       "<style>#sk-container-id-1 {color: black;}#sk-container-id-1 pre{padding: 0;}#sk-container-id-1 div.sk-toggleable {background-color: white;}#sk-container-id-1 label.sk-toggleable__label {cursor: pointer;display: block;width: 100%;margin-bottom: 0;padding: 0.3em;box-sizing: border-box;text-align: center;}#sk-container-id-1 label.sk-toggleable__label-arrow:before {content: \"▸\";float: left;margin-right: 0.25em;color: #696969;}#sk-container-id-1 label.sk-toggleable__label-arrow:hover:before {color: black;}#sk-container-id-1 div.sk-estimator:hover label.sk-toggleable__label-arrow:before {color: black;}#sk-container-id-1 div.sk-toggleable__content {max-height: 0;max-width: 0;overflow: hidden;text-align: left;background-color: #f0f8ff;}#sk-container-id-1 div.sk-toggleable__content pre {margin: 0.2em;color: black;border-radius: 0.25em;background-color: #f0f8ff;}#sk-container-id-1 input.sk-toggleable__control:checked~div.sk-toggleable__content {max-height: 200px;max-width: 100%;overflow: auto;}#sk-container-id-1 input.sk-toggleable__control:checked~label.sk-toggleable__label-arrow:before {content: \"▾\";}#sk-container-id-1 div.sk-estimator input.sk-toggleable__control:checked~label.sk-toggleable__label {background-color: #d4ebff;}#sk-container-id-1 div.sk-label input.sk-toggleable__control:checked~label.sk-toggleable__label {background-color: #d4ebff;}#sk-container-id-1 input.sk-hidden--visually {border: 0;clip: rect(1px 1px 1px 1px);clip: rect(1px, 1px, 1px, 1px);height: 1px;margin: -1px;overflow: hidden;padding: 0;position: absolute;width: 1px;}#sk-container-id-1 div.sk-estimator {font-family: monospace;background-color: #f0f8ff;border: 1px dotted black;border-radius: 0.25em;box-sizing: border-box;margin-bottom: 0.5em;}#sk-container-id-1 div.sk-estimator:hover {background-color: #d4ebff;}#sk-container-id-1 div.sk-parallel-item::after {content: \"\";width: 100%;border-bottom: 1px solid gray;flex-grow: 1;}#sk-container-id-1 div.sk-label:hover label.sk-toggleable__label {background-color: #d4ebff;}#sk-container-id-1 div.sk-serial::before {content: \"\";position: absolute;border-left: 1px solid gray;box-sizing: border-box;top: 0;bottom: 0;left: 50%;z-index: 0;}#sk-container-id-1 div.sk-serial {display: flex;flex-direction: column;align-items: center;background-color: white;padding-right: 0.2em;padding-left: 0.2em;position: relative;}#sk-container-id-1 div.sk-item {position: relative;z-index: 1;}#sk-container-id-1 div.sk-parallel {display: flex;align-items: stretch;justify-content: center;background-color: white;position: relative;}#sk-container-id-1 div.sk-item::before, #sk-container-id-1 div.sk-parallel-item::before {content: \"\";position: absolute;border-left: 1px solid gray;box-sizing: border-box;top: 0;bottom: 0;left: 50%;z-index: -1;}#sk-container-id-1 div.sk-parallel-item {display: flex;flex-direction: column;z-index: 1;position: relative;background-color: white;}#sk-container-id-1 div.sk-parallel-item:first-child::after {align-self: flex-end;width: 50%;}#sk-container-id-1 div.sk-parallel-item:last-child::after {align-self: flex-start;width: 50%;}#sk-container-id-1 div.sk-parallel-item:only-child::after {width: 0;}#sk-container-id-1 div.sk-dashed-wrapped {border: 1px dashed gray;margin: 0 0.4em 0.5em 0.4em;box-sizing: border-box;padding-bottom: 0.4em;background-color: white;}#sk-container-id-1 div.sk-label label {font-family: monospace;font-weight: bold;display: inline-block;line-height: 1.2em;}#sk-container-id-1 div.sk-label-container {text-align: center;}#sk-container-id-1 div.sk-container {/* jupyter's `normalize.less` sets `[hidden] { display: none; }` but bootstrap.min.css set `[hidden] { display: none !important; }` so we also need the `!important` here to be able to override the default hidden behavior on the sphinx rendered scikit-learn.org. See: https://github.com/scikit-learn/scikit-learn/issues/21755 */display: inline-block !important;position: relative;}#sk-container-id-1 div.sk-text-repr-fallback {display: none;}</style><div id=\"sk-container-id-1\" class=\"sk-top-container\"><div class=\"sk-text-repr-fallback\"><pre>TPOTRegressor(n_jobs=-1, random_state=42, scoring=&#x27;neg_mean_squared_error&#x27;,\n",
       "              verbosity=2)</pre><b>In a Jupyter environment, please rerun this cell to show the HTML representation or trust the notebook. <br />On GitHub, the HTML representation is unable to render, please try loading this page with nbviewer.org.</b></div><div class=\"sk-container\" hidden><div class=\"sk-item\"><div class=\"sk-estimator sk-toggleable\"><input class=\"sk-toggleable__control sk-hidden--visually\" id=\"sk-estimator-id-1\" type=\"checkbox\" checked><label for=\"sk-estimator-id-1\" class=\"sk-toggleable__label sk-toggleable__label-arrow\">TPOTRegressor</label><div class=\"sk-toggleable__content\"><pre>TPOTRegressor(n_jobs=-1, random_state=42, scoring=&#x27;neg_mean_squared_error&#x27;,\n",
       "              verbosity=2)</pre></div></div></div></div></div>"
      ],
      "text/plain": [
       "TPOTRegressor(n_jobs=-1, random_state=42, scoring='neg_mean_squared_error',\n",
       "              verbosity=2)"
      ]
     },
     "execution_count": 13,
     "metadata": {},
     "output_type": "execute_result"
    }
   ],
   "source": [
    "tpot"
   ]
  },
  {
   "cell_type": "code",
   "execution_count": null,
   "id": "eb40b43b-5451-48cf-9e50-558f12ef6ab9",
   "metadata": {},
   "outputs": [],
   "source": []
  }
 ],
 "metadata": {
  "kernelspec": {
   "display_name": "Python 3 (ipykernel)",
   "language": "python",
   "name": "python3"
  },
  "language_info": {
   "codemirror_mode": {
    "name": "ipython",
    "version": 3
   },
   "file_extension": ".py",
   "mimetype": "text/x-python",
   "name": "python",
   "nbconvert_exporter": "python",
   "pygments_lexer": "ipython3",
   "version": "3.8.0"
  }
 },
 "nbformat": 4,
 "nbformat_minor": 5
}
