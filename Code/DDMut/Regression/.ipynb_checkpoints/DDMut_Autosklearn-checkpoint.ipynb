{
 "cells": [
  {
   "cell_type": "code",
   "execution_count": 13,
   "id": "cf795069-321f-442a-a567-2d82bda1cd2f",
   "metadata": {
    "tags": []
   },
   "outputs": [],
   "source": [
    "#####THIS CODE aims to run Autosklearn v1 on regressor data#####\n",
    "\n",
    "#Adjustable parameters\n",
    "main_path = '/home/korawich/Desktop/AutoML/automl_ddmut/'\n",
    "\n",
    "time_left_for_this_task = 7200 #2 hrs\n",
    "per_run_time_limit = 600\n",
    "memory_limit = None"
   ]
  },
  {
   "cell_type": "code",
   "execution_count": 2,
   "id": "e6472a99-392f-41b6-b88e-3ba1f13e89e1",
   "metadata": {
    "tags": []
   },
   "outputs": [],
   "source": [
    "#Datafile #change here to use different data\n",
    "data_path = main_path + 'AutoML/Dataset/DDMut_data/'\n",
    "gbsig_path = main_path + 'Dataset/DDMut_data/Graph-based/'\n",
    "result_path = main_path + 'Dataset/DDMut_data/Results/'\n",
    "final_path = main_path + 'Dataset/DDMut_data/Final/'\n",
    "\n",
    "#train_info_path  = final_path + 'train_info.csv'\n",
    "#test_1_info_path = final_path + 'test_1_info.csv'\n",
    "#test_2_info_path = final_path + 'test_2_info.csv'\n",
    "#test_3_info_path = final_path + 'test_3_info.csv'\n",
    "\n",
    "train_X_path  = final_path + 'final_train_X.csv'\n",
    "test_1_X_path = final_path + 'final_test_1_X.csv'\n",
    "test_2_X_path = final_path + 'final_test_2_X.csv'\n",
    "test_3_X_path = final_path + 'final_test_3_X.csv'\n",
    "\n",
    "train_y_path  = final_path + 'train_y.csv'\n",
    "test_1_y_path = final_path + 'test_1_y.csv'\n",
    "test_2_y_path = final_path + 'test_2_y.csv'\n",
    "test_3_y_path = final_path + 'test_3_y.csv'"
   ]
  },
  {
   "cell_type": "code",
   "execution_count": 3,
   "id": "25ded01e-7acb-417b-bc99-2215614e44ca",
   "metadata": {
    "tags": []
   },
   "outputs": [],
   "source": [
    "import numpy as np\n",
    "import pandas as pd\n",
    "\n",
    "from pprint import pprint\n",
    "\n",
    "import sklearn.datasets\n",
    "import sklearn.metrics\n",
    "\n",
    "import autosklearn.regression\n",
    "\n",
    "import warnings\n",
    "warnings.filterwarnings('ignore')"
   ]
  },
  {
   "cell_type": "code",
   "execution_count": 4,
   "id": "8c6f1531-b9ac-4333-b4f6-9d28cf1abbfa",
   "metadata": {
    "tags": []
   },
   "outputs": [],
   "source": [
    "#Code path \n",
    "alg_path = main_path + 'Algorithm/Auto-sklearn/'"
   ]
  },
  {
   "cell_type": "markdown",
   "id": "8860857e-1320-4215-a883-d0b83b321748",
   "metadata": {},
   "source": [
    "loading data"
   ]
  },
  {
   "cell_type": "code",
   "execution_count": 5,
   "id": "d49121b6-075e-414e-bfd0-86acc2d40738",
   "metadata": {
    "tags": []
   },
   "outputs": [],
   "source": [
    "X_train = pd.read_csv(train_X_path, index_col=0)\n",
    "X_test_1 = pd.read_csv(test_1_X_path, index_col=0)\n",
    "X_test_2 = pd.read_csv(test_2_X_path, index_col=0)\n",
    "X_test_3 = pd.read_csv(test_3_X_path, index_col=0)\n",
    "\n",
    "y_train = pd.read_csv(train_y_path, index_col=0)\n",
    "y_test_1 = pd.read_csv(test_1_y_path, index_col=0)\n",
    "y_test_2 = pd.read_csv(test_2_y_path, index_col=0)\n",
    "y_test_3 = pd.read_csv(test_3_y_path, index_col=0)"
   ]
  },
  {
   "cell_type": "code",
   "execution_count": 6,
   "id": "1322bee9-5879-41bb-b9ef-f22641595abb",
   "metadata": {
    "tags": []
   },
   "outputs": [
    {
     "name": "stdout",
     "output_type": "stream",
     "text": [
      "X_train.shape =  (9028, 896)\n",
      "X_test_1.shape =  (552, 896)\n",
      "X_test_2.shape =  (1304, 896)\n",
      "X_test_3.shape =  (2024, 896)\n"
     ]
    }
   ],
   "source": [
    "#Check size of datasets\n",
    "print('X_train.shape = ', X_train.shape)\n",
    "print('X_test_1.shape = ', X_test_1.shape)\n",
    "print('X_test_2.shape = ', X_test_2.shape)\n",
    "print('X_test_3.shape = ', X_test_3.shape)"
   ]
  },
  {
   "cell_type": "code",
   "execution_count": 7,
   "id": "6dd1e466-b841-4681-a224-287d1eae828e",
   "metadata": {
    "tags": []
   },
   "outputs": [],
   "source": [
    "#load list of features\n",
    "feat_list_path = main_path + 'Dataset/DDMut_data/Feat_list/'\n",
    "gbsig_feat_list_path = feat_list_path + 'gbsig_feat_list.csv'\n",
    "seq_feat_list_path = feat_list_path + 'seq_feat_list.csv'\n",
    "str_feat_list_path = feat_list_path + 'str_feat_list.csv'\n",
    "\n",
    "all_feat_result_path = result_path + 'tpot_default_params.csv'\n",
    "gbsig_feat_result_path = result_path + 'tpot_default_params_gbsig.csv'\n",
    "seq_feat_result_path = result_path + 'tpot_default_params_seq.csv'\n",
    "str_feat_result_path = result_path + 'tpot_default_params_str.csv'\n",
    "\n",
    "gbs_feat = pd.read_csv(gbsig_feat_list_path, index_col=0)\n",
    "seq_feat = pd.read_csv(seq_feat_list_path, index_col=0)\n",
    "str_feat = pd.read_csv(str_feat_list_path, index_col=0)\n",
    "all_feat = pd.concat([seq_feat, str_feat, gbs_feat], ignore_index=True)"
   ]
  },
  {
   "cell_type": "code",
   "execution_count": 8,
   "id": "65a7483e-55c6-45a0-b8d5-cd35f2c083c0",
   "metadata": {
    "tags": []
   },
   "outputs": [],
   "source": [
    "features_sets = [\n",
    "    ('all_feat', all_feat, all_feat_result_path),\n",
    "    ('seq_feat', seq_feat, seq_feat_result_path),\n",
    "    ('str_feat', str_feat, str_feat_result_path),\n",
    "    ('gbs_feat', gbs_feat, gbsig_feat_result_path)\n",
    "]"
   ]
  },
  {
   "cell_type": "markdown",
   "id": "e836b882-06d2-4db4-82af-7da7efbacf4d",
   "metadata": {},
   "source": [
    "Autosklearn"
   ]
  },
  {
   "cell_type": "code",
   "execution_count": 18,
   "id": "bf7a7e83-5fb7-4008-baed-af0420b9fae1",
   "metadata": {
    "tags": []
   },
   "outputs": [],
   "source": [
    "#Set search space -> #same as in table 18 of Autosklearn 2.0 paper (2020)\n",
    "#It's only using iterative models and only preprocessing to encode data into suitable format\n",
    "#https://arxiv.org/pdf/2007.04074\n",
    "#But table 18 is classification. We adapt them to regression counterpart.\n",
    "\n",
    "search_space_dict = {\n",
    "            'regressors': [\n",
    "                \"extra_trees\", \n",
    "                \"gradient_boosting\",\n",
    "                \"mlp\",\n",
    "                #\"passive_aggressive\", #No PA in regression\n",
    "                \"random_forest\",\n",
    "                \"sgd\"],\n",
    "            'feature_preprocessor': [\"no_preprocessing\"]\n",
    "}"
   ]
  },
  {
   "cell_type": "code",
   "execution_count": 19,
   "id": "11dc5d21-a95a-4f99-892b-39c44e1627a9",
   "metadata": {
    "tags": []
   },
   "outputs": [],
   "source": [
    "automl = autosklearn.regression.AutoSklearnRegressor(\n",
    "    ensemble_size=1, #use in the paper, always choosing the current best model\n",
    "    initial_configurations_via_metalearning=0,\n",
    "    allow_string_features=False,\n",
    "    time_left_for_this_task=time_left_for_this_task, #need to be changed\n",
    "    per_run_time_limit=per_run_time_limit, #need to be changed\n",
    "    resampling_strategy=\"cv\",\n",
    "    resampling_strategy_arguments={\"folds\": 5}, #should be ten\n",
    "    seed=1,\n",
    "    include=search_space_dict,\n",
    "    exclude=None,\n",
    "    delete_tmp_folder_after_terminate=False,\n",
    "    memory_limit=memory_limit)"
   ]
  },
  {
   "cell_type": "code",
   "execution_count": 20,
   "id": "d64b328b-d192-4d12-9930-d3c0132b049c",
   "metadata": {
    "tags": []
   },
   "outputs": [
    {
     "name": "stdout",
     "output_type": "stream",
     "text": [
      "[ERROR] [2024-08-28 16:11:47,782:Client-AutoML(1):ddmut] The provided key 'regressors' in the 'include' argument is not valid. The only supported keys for this task are ['data_preprocessor', 'feature_preprocessor', 'regressor']\n",
      "Traceback (most recent call last):\n",
      "  File \"/home/korawich/anaconda3/envs/atml_autosklearn/lib/python3.7/site-packages/autosklearn/automl.py\", line 756, in fit\n",
      "    exclude=self._exclude,\n",
      "  File \"/home/korawich/anaconda3/envs/atml_autosklearn/lib/python3.7/site-packages/autosklearn/automl.py\", line 2255, in _create_search_space\n",
      "    exclude=exclude,\n",
      "  File \"/home/korawich/anaconda3/envs/atml_autosklearn/lib/python3.7/site-packages/autosklearn/util/pipeline.py\", line 50, in get_configuration_space\n",
      "    datamanager, include, exclude, random_state\n",
      "  File \"/home/korawich/anaconda3/envs/atml_autosklearn/lib/python3.7/site-packages/autosklearn/util/pipeline.py\", line 101, in _get_regression_configuration_space\n",
      "    random_state=random_state,\n",
      "  File \"/home/korawich/anaconda3/envs/atml_autosklearn/lib/python3.7/site-packages/autosklearn/pipeline/regression.py\", line 93, in __init__\n",
      "    init_params=init_params,\n",
      "  File \"/home/korawich/anaconda3/envs/atml_autosklearn/lib/python3.7/site-packages/autosklearn/pipeline/base.py\", line 64, in __init__\n",
      "    self._validate_include_exclude_params()\n",
      "  File \"/home/korawich/anaconda3/envs/atml_autosklearn/lib/python3.7/site-packages/autosklearn/pipeline/base.py\", line 585, in _validate_include_exclude_params\n",
      "    key, arg, list(supported_steps.keys())\n",
      "ValueError: The provided key 'regressors' in the 'include' argument is not valid. The only supported keys for this task are ['data_preprocessor', 'feature_preprocessor', 'regressor']\n"
     ]
    },
    {
     "ename": "ValueError",
     "evalue": "The provided key 'regressors' in the 'include' argument is not valid. The only supported keys for this task are ['data_preprocessor', 'feature_preprocessor', 'regressor']",
     "output_type": "error",
     "traceback": [
      "\u001b[0;31m---------------------------------------------------------------------------\u001b[0m",
      "\u001b[0;31mValueError\u001b[0m                                Traceback (most recent call last)",
      "\u001b[0;32m/tmp/ipykernel_18430/1500581701.py\u001b[0m in \u001b[0;36m<module>\u001b[0;34m\u001b[0m\n\u001b[0;32m----> 1\u001b[0;31m \u001b[0mautoml\u001b[0m\u001b[0;34m.\u001b[0m\u001b[0mfit\u001b[0m\u001b[0;34m(\u001b[0m\u001b[0mX_train_sel\u001b[0m\u001b[0;34m,\u001b[0m \u001b[0my_train\u001b[0m\u001b[0;34m,\u001b[0m \u001b[0mdataset_name\u001b[0m\u001b[0;34m=\u001b[0m\u001b[0;34m\"ddmut\"\u001b[0m\u001b[0;34m)\u001b[0m\u001b[0;34m\u001b[0m\u001b[0m\n\u001b[0m",
      "\u001b[0;32m~/anaconda3/envs/atml_autosklearn/lib/python3.7/site-packages/autosklearn/estimators.py\u001b[0m in \u001b[0;36mfit\u001b[0;34m(self, X, y, X_test, y_test, feat_type, dataset_name)\u001b[0m\n\u001b[1;32m   1591\u001b[0m             \u001b[0my_test\u001b[0m\u001b[0;34m=\u001b[0m\u001b[0my_test\u001b[0m\u001b[0;34m,\u001b[0m\u001b[0;34m\u001b[0m\u001b[0m\n\u001b[1;32m   1592\u001b[0m             \u001b[0mfeat_type\u001b[0m\u001b[0;34m=\u001b[0m\u001b[0mfeat_type\u001b[0m\u001b[0;34m,\u001b[0m\u001b[0;34m\u001b[0m\u001b[0m\n\u001b[0;32m-> 1593\u001b[0;31m             \u001b[0mdataset_name\u001b[0m\u001b[0;34m=\u001b[0m\u001b[0mdataset_name\u001b[0m\u001b[0;34m,\u001b[0m\u001b[0;34m\u001b[0m\u001b[0m\n\u001b[0m\u001b[1;32m   1594\u001b[0m         )\n\u001b[1;32m   1595\u001b[0m \u001b[0;34m\u001b[0m\u001b[0m\n",
      "\u001b[0;32m~/anaconda3/envs/atml_autosklearn/lib/python3.7/site-packages/autosklearn/estimators.py\u001b[0m in \u001b[0;36mfit\u001b[0;34m(self, **kwargs)\u001b[0m\n\u001b[1;32m    538\u001b[0m         \u001b[0;32mif\u001b[0m \u001b[0mself\u001b[0m\u001b[0;34m.\u001b[0m\u001b[0mautoml_\u001b[0m \u001b[0;32mis\u001b[0m \u001b[0;32mNone\u001b[0m\u001b[0;34m:\u001b[0m\u001b[0;34m\u001b[0m\u001b[0m\n\u001b[1;32m    539\u001b[0m             \u001b[0mself\u001b[0m\u001b[0;34m.\u001b[0m\u001b[0mautoml_\u001b[0m \u001b[0;34m=\u001b[0m \u001b[0mself\u001b[0m\u001b[0;34m.\u001b[0m\u001b[0mbuild_automl\u001b[0m\u001b[0;34m(\u001b[0m\u001b[0;34m)\u001b[0m\u001b[0;34m\u001b[0m\u001b[0m\n\u001b[0;32m--> 540\u001b[0;31m         \u001b[0mself\u001b[0m\u001b[0;34m.\u001b[0m\u001b[0mautoml_\u001b[0m\u001b[0;34m.\u001b[0m\u001b[0mfit\u001b[0m\u001b[0;34m(\u001b[0m\u001b[0mload_models\u001b[0m\u001b[0;34m=\u001b[0m\u001b[0mself\u001b[0m\u001b[0;34m.\u001b[0m\u001b[0mload_models\u001b[0m\u001b[0;34m,\u001b[0m \u001b[0;34m**\u001b[0m\u001b[0mkwargs\u001b[0m\u001b[0;34m)\u001b[0m\u001b[0;34m\u001b[0m\u001b[0m\n\u001b[0m\u001b[1;32m    541\u001b[0m \u001b[0;34m\u001b[0m\u001b[0m\n\u001b[1;32m    542\u001b[0m         \u001b[0;32mreturn\u001b[0m \u001b[0mself\u001b[0m\u001b[0;34m\u001b[0m\u001b[0m\n",
      "\u001b[0;32m~/anaconda3/envs/atml_autosklearn/lib/python3.7/site-packages/autosklearn/automl.py\u001b[0m in \u001b[0;36mfit\u001b[0;34m(self, X, y, X_test, y_test, feat_type, dataset_name, only_return_configuration_space, load_models)\u001b[0m\n\u001b[1;32m   2401\u001b[0m             \u001b[0monly_return_configuration_space\u001b[0m\u001b[0;34m=\u001b[0m\u001b[0monly_return_configuration_space\u001b[0m\u001b[0;34m,\u001b[0m\u001b[0;34m\u001b[0m\u001b[0m\n\u001b[1;32m   2402\u001b[0m             \u001b[0mload_models\u001b[0m\u001b[0;34m=\u001b[0m\u001b[0mload_models\u001b[0m\u001b[0;34m,\u001b[0m\u001b[0;34m\u001b[0m\u001b[0m\n\u001b[0;32m-> 2403\u001b[0;31m             \u001b[0mis_classification\u001b[0m\u001b[0;34m=\u001b[0m\u001b[0;32mFalse\u001b[0m\u001b[0;34m,\u001b[0m\u001b[0;34m\u001b[0m\u001b[0m\n\u001b[0m\u001b[1;32m   2404\u001b[0m         )\n\u001b[1;32m   2405\u001b[0m \u001b[0;34m\u001b[0m\u001b[0m\n",
      "\u001b[0;32m~/anaconda3/envs/atml_autosklearn/lib/python3.7/site-packages/autosklearn/automl.py\u001b[0m in \u001b[0;36mfit\u001b[0;34m(self, X, y, task, X_test, y_test, feat_type, dataset_name, only_return_configuration_space, load_models, is_classification)\u001b[0m\n\u001b[1;32m    960\u001b[0m             \u001b[0;31m# This will be called before the _fit_cleanup\u001b[0m\u001b[0;34m\u001b[0m\u001b[0;34m\u001b[0m\u001b[0m\n\u001b[1;32m    961\u001b[0m             \u001b[0mself\u001b[0m\u001b[0;34m.\u001b[0m\u001b[0m_logger\u001b[0m\u001b[0;34m.\u001b[0m\u001b[0mexception\u001b[0m\u001b[0;34m(\u001b[0m\u001b[0me\u001b[0m\u001b[0;34m)\u001b[0m\u001b[0;34m\u001b[0m\u001b[0m\n\u001b[0;32m--> 962\u001b[0;31m             \u001b[0;32mraise\u001b[0m \u001b[0me\u001b[0m\u001b[0;34m\u001b[0m\u001b[0m\n\u001b[0m\u001b[1;32m    963\u001b[0m         \u001b[0;32mfinally\u001b[0m\u001b[0;34m:\u001b[0m\u001b[0;34m\u001b[0m\u001b[0m\n\u001b[1;32m    964\u001b[0m             \u001b[0mself\u001b[0m\u001b[0;34m.\u001b[0m\u001b[0m_fit_cleanup\u001b[0m\u001b[0;34m(\u001b[0m\u001b[0;34m)\u001b[0m\u001b[0;34m\u001b[0m\u001b[0m\n",
      "\u001b[0;32m~/anaconda3/envs/atml_autosklearn/lib/python3.7/site-packages/autosklearn/automl.py\u001b[0m in \u001b[0;36mfit\u001b[0;34m(self, X, y, task, X_test, y_test, feat_type, dataset_name, only_return_configuration_space, load_models, is_classification)\u001b[0m\n\u001b[1;32m    754\u001b[0m                     \u001b[0mdatamanager\u001b[0m\u001b[0;34m,\u001b[0m\u001b[0;34m\u001b[0m\u001b[0m\n\u001b[1;32m    755\u001b[0m                     \u001b[0minclude\u001b[0m\u001b[0;34m=\u001b[0m\u001b[0mself\u001b[0m\u001b[0;34m.\u001b[0m\u001b[0m_include\u001b[0m\u001b[0;34m,\u001b[0m\u001b[0;34m\u001b[0m\u001b[0m\n\u001b[0;32m--> 756\u001b[0;31m                     \u001b[0mexclude\u001b[0m\u001b[0;34m=\u001b[0m\u001b[0mself\u001b[0m\u001b[0;34m.\u001b[0m\u001b[0m_exclude\u001b[0m\u001b[0;34m,\u001b[0m\u001b[0;34m\u001b[0m\u001b[0m\n\u001b[0m\u001b[1;32m    757\u001b[0m                 )\n\u001b[1;32m    758\u001b[0m \u001b[0;34m\u001b[0m\u001b[0m\n",
      "\u001b[0;32m~/anaconda3/envs/atml_autosklearn/lib/python3.7/site-packages/autosklearn/automl.py\u001b[0m in \u001b[0;36m_create_search_space\u001b[0;34m(self, tmp_dir, backend, datamanager, include, exclude)\u001b[0m\n\u001b[1;32m   2253\u001b[0m             \u001b[0mdatamanager\u001b[0m\u001b[0;34m,\u001b[0m\u001b[0;34m\u001b[0m\u001b[0m\n\u001b[1;32m   2254\u001b[0m             \u001b[0minclude\u001b[0m\u001b[0;34m=\u001b[0m\u001b[0minclude\u001b[0m\u001b[0;34m,\u001b[0m\u001b[0;34m\u001b[0m\u001b[0m\n\u001b[0;32m-> 2255\u001b[0;31m             \u001b[0mexclude\u001b[0m\u001b[0;34m=\u001b[0m\u001b[0mexclude\u001b[0m\u001b[0;34m,\u001b[0m\u001b[0;34m\u001b[0m\u001b[0m\n\u001b[0m\u001b[1;32m   2256\u001b[0m         )\n\u001b[1;32m   2257\u001b[0m         backend.write_txt_file(\n",
      "\u001b[0;32m~/anaconda3/envs/atml_autosklearn/lib/python3.7/site-packages/autosklearn/util/pipeline.py\u001b[0m in \u001b[0;36mget_configuration_space\u001b[0;34m(datamanager, include, exclude, random_state)\u001b[0m\n\u001b[1;32m     48\u001b[0m     \u001b[0;32mif\u001b[0m \u001b[0mdatamanager\u001b[0m\u001b[0;34m.\u001b[0m\u001b[0minfo\u001b[0m\u001b[0;34m[\u001b[0m\u001b[0;34m\"task\"\u001b[0m\u001b[0;34m]\u001b[0m \u001b[0;32min\u001b[0m \u001b[0mREGRESSION_TASKS\u001b[0m\u001b[0;34m:\u001b[0m\u001b[0;34m\u001b[0m\u001b[0m\n\u001b[1;32m     49\u001b[0m         return _get_regression_configuration_space(\n\u001b[0;32m---> 50\u001b[0;31m             \u001b[0mdatamanager\u001b[0m\u001b[0;34m,\u001b[0m \u001b[0minclude\u001b[0m\u001b[0;34m,\u001b[0m \u001b[0mexclude\u001b[0m\u001b[0;34m,\u001b[0m \u001b[0mrandom_state\u001b[0m\u001b[0;34m\u001b[0m\u001b[0m\n\u001b[0m\u001b[1;32m     51\u001b[0m         )\n\u001b[1;32m     52\u001b[0m     \u001b[0;32melse\u001b[0m\u001b[0;34m:\u001b[0m\u001b[0;34m\u001b[0m\u001b[0m\n",
      "\u001b[0;32m~/anaconda3/envs/atml_autosklearn/lib/python3.7/site-packages/autosklearn/util/pipeline.py\u001b[0m in \u001b[0;36m_get_regression_configuration_space\u001b[0;34m(datamanager, include, exclude, random_state)\u001b[0m\n\u001b[1;32m     99\u001b[0m         \u001b[0minclude\u001b[0m\u001b[0;34m=\u001b[0m\u001b[0minclude\u001b[0m\u001b[0;34m,\u001b[0m\u001b[0;34m\u001b[0m\u001b[0m\n\u001b[1;32m    100\u001b[0m         \u001b[0mexclude\u001b[0m\u001b[0;34m=\u001b[0m\u001b[0mexclude\u001b[0m\u001b[0;34m,\u001b[0m\u001b[0;34m\u001b[0m\u001b[0m\n\u001b[0;32m--> 101\u001b[0;31m         \u001b[0mrandom_state\u001b[0m\u001b[0;34m=\u001b[0m\u001b[0mrandom_state\u001b[0m\u001b[0;34m,\u001b[0m\u001b[0;34m\u001b[0m\u001b[0m\n\u001b[0m\u001b[1;32m    102\u001b[0m     ).get_hyperparameter_search_space(feat_type=datamanager.feat_type)\n\u001b[1;32m    103\u001b[0m     \u001b[0;32mreturn\u001b[0m \u001b[0mconfiguration_space\u001b[0m\u001b[0;34m\u001b[0m\u001b[0m\n",
      "\u001b[0;32m~/anaconda3/envs/atml_autosklearn/lib/python3.7/site-packages/autosklearn/pipeline/regression.py\u001b[0m in \u001b[0;36m__init__\u001b[0;34m(self, config, feat_type, steps, dataset_properties, include, exclude, random_state, init_params)\u001b[0m\n\u001b[1;32m     91\u001b[0m             \u001b[0mexclude\u001b[0m\u001b[0;34m=\u001b[0m\u001b[0mexclude\u001b[0m\u001b[0;34m,\u001b[0m\u001b[0;34m\u001b[0m\u001b[0m\n\u001b[1;32m     92\u001b[0m             \u001b[0mrandom_state\u001b[0m\u001b[0;34m=\u001b[0m\u001b[0mrandom_state\u001b[0m\u001b[0;34m,\u001b[0m\u001b[0;34m\u001b[0m\u001b[0m\n\u001b[0;32m---> 93\u001b[0;31m             \u001b[0minit_params\u001b[0m\u001b[0;34m=\u001b[0m\u001b[0minit_params\u001b[0m\u001b[0;34m,\u001b[0m\u001b[0;34m\u001b[0m\u001b[0m\n\u001b[0m\u001b[1;32m     94\u001b[0m         )\n\u001b[1;32m     95\u001b[0m \u001b[0;34m\u001b[0m\u001b[0m\n",
      "\u001b[0;32m~/anaconda3/envs/atml_autosklearn/lib/python3.7/site-packages/autosklearn/pipeline/base.py\u001b[0m in \u001b[0;36m__init__\u001b[0;34m(self, config, feat_type, steps, dataset_properties, include, exclude, random_state, init_params)\u001b[0m\n\u001b[1;32m     62\u001b[0m             \u001b[0mself\u001b[0m\u001b[0;34m.\u001b[0m\u001b[0msteps\u001b[0m \u001b[0;34m=\u001b[0m \u001b[0msteps\u001b[0m\u001b[0;34m\u001b[0m\u001b[0m\n\u001b[1;32m     63\u001b[0m \u001b[0;34m\u001b[0m\u001b[0m\n\u001b[0;32m---> 64\u001b[0;31m         \u001b[0mself\u001b[0m\u001b[0;34m.\u001b[0m\u001b[0m_validate_include_exclude_params\u001b[0m\u001b[0;34m(\u001b[0m\u001b[0;34m)\u001b[0m\u001b[0;34m\u001b[0m\u001b[0m\n\u001b[0m\u001b[1;32m     65\u001b[0m \u001b[0;34m\u001b[0m\u001b[0m\n\u001b[1;32m     66\u001b[0m         \u001b[0mself\u001b[0m\u001b[0;34m.\u001b[0m\u001b[0mconfig_space\u001b[0m \u001b[0;34m=\u001b[0m \u001b[0mself\u001b[0m\u001b[0;34m.\u001b[0m\u001b[0mget_hyperparameter_search_space\u001b[0m\u001b[0;34m(\u001b[0m\u001b[0mfeat_type\u001b[0m\u001b[0;34m=\u001b[0m\u001b[0mfeat_type\u001b[0m\u001b[0;34m)\u001b[0m\u001b[0;34m\u001b[0m\u001b[0m\n",
      "\u001b[0;32m~/anaconda3/envs/atml_autosklearn/lib/python3.7/site-packages/autosklearn/pipeline/base.py\u001b[0m in \u001b[0;36m_validate_include_exclude_params\u001b[0;34m(self)\u001b[0m\n\u001b[1;32m    583\u001b[0m                         \u001b[0;34m\"The provided key '{}' in the '{}' argument is not valid. The\"\u001b[0m\u001b[0;34m\u001b[0m\u001b[0m\n\u001b[1;32m    584\u001b[0m                         \" only supported keys for this task are {}\".format(\n\u001b[0;32m--> 585\u001b[0;31m                             \u001b[0mkey\u001b[0m\u001b[0;34m,\u001b[0m \u001b[0marg\u001b[0m\u001b[0;34m,\u001b[0m \u001b[0mlist\u001b[0m\u001b[0;34m(\u001b[0m\u001b[0msupported_steps\u001b[0m\u001b[0;34m.\u001b[0m\u001b[0mkeys\u001b[0m\u001b[0;34m(\u001b[0m\u001b[0;34m)\u001b[0m\u001b[0;34m)\u001b[0m\u001b[0;34m\u001b[0m\u001b[0m\n\u001b[0m\u001b[1;32m    586\u001b[0m                         )\n\u001b[1;32m    587\u001b[0m                     )\n",
      "\u001b[0;31mValueError\u001b[0m: The provided key 'regressors' in the 'include' argument is not valid. The only supported keys for this task are ['data_preprocessor', 'feature_preprocessor', 'regressor']"
     ]
    }
   ],
   "source": [
    "automl.fit(X_train_sel, y_train, dataset_name=\"ddmut\")"
   ]
  },
  {
   "cell_type": "code",
   "execution_count": 11,
   "id": "7c7aa889-46c3-4ed1-be49-ba7db4440302",
   "metadata": {
    "tags": []
   },
   "outputs": [
    {
     "name": "stdout",
     "output_type": "stream",
     "text": [
      "running - feat_name:  all_feat\n"
     ]
    }
   ],
   "source": [
    "results = []\n",
    "for feat_name, feat_list, result_path in features_sets:\n",
    "    print('running - feat_name: ', feat_name)\n",
    "    X_train_sel  = X_train[feat_list.values.flatten()]\n",
    "    X_test_1_sel = X_test_1[feat_list.values.flatten()]\n",
    "    X_test_2_sel = X_test_2[feat_list.values.flatten()]\n",
    "    X_test_3_sel = X_test_3[feat_list.values.flatten()]\n",
    "    \n",
    "    break \n",
    "    automl.fit(X_train_sel, y_train, dataset_name=\"ddmut\")\n",
    "    \n",
    "    print(automl.leaderboard())\n",
    "    \n",
    "    #During fit(), models are fit on individual cross-validation folds.\n",
    "    #Refit use models on whole datasets\n",
    "    automl.refit(X_train_sel.copy(), y_train)\n",
    "    \n",
    "    #Report the models found by Auto-sklearn\n",
    "    pprint(automl.show_models(), indent=4)\n",
    "    \n",
    "    #Report statistics about the search\n",
    "    print(automl.sprint_statistics())\n",
    "    \n",
    "    #Test on a blind test\n",
    "    y_pred_test_1 = automl.predict(X_test_1_sel)\n",
    "    rmse_1 = np.sqrt(mean_squared_error(y_test_1, y_pred_test_1))\n",
    "    r2_1 = r2_score(y_test_1, y_pred_test_1)\n",
    "    pearson_corr_1, _ = pearsonr(y_test_1.values.flatten(), y_pred_test_1.flatten())\n",
    "    print('score for test 1 - RMSE = ', rmse_1, ' - R2 = ', r2_1, ' - Pearson = ', pearson_corr_1)\n",
    "\n",
    "    y_pred_test_2 = automl.predict(X_test_2_sel)\n",
    "    rmse_2 = np.sqrt(mean_squared_error(y_test_2, y_pred_test_2))\n",
    "    r2_2 = r2_score(y_test_2, y_pred_test_2)\n",
    "    pearson_corr_2, _ = pearsonr(y_test_2.values.flatten(), y_pred_test_2.flatten())\n",
    "    print('score for test 2 - RMSE = ', rmse_2, ' - R2 = ', r2_2, ' - Pearson = ', pearson_corr_2)\n",
    "    \n",
    "    y_pred_test_3 = automl.predict(X_test_3_sel)\n",
    "    rmse_3 = np.sqrt(mean_squared_error(y_test_3, y_pred_test_3))\n",
    "    r2_3 = r2_score(y_test_3, y_pred_test_3)\n",
    "    pearson_corr_3, _ = pearsonr(y_test_3.values.flatten(), y_pred_test_3.flatten())\n",
    "    print('score for test 2 - RMSE = ', rmse_3, ' - R2 = ', r2_3, ' - Pearson = ', pearson_corr_3)\n",
    "    \n",
    "    #10-fold CV\n",
    "    kfold = KFold(n_splits=10, shuffle=True, random_state=42)\n",
    "    rmse_scores = []\n",
    "    r2_scores = []\n",
    "    pearson_corrs = []\n",
    "    \n",
    "    for train_index, test_index in kfold.split(X_train_sel[feat_list.values.flatten()]):\n",
    "        X_train_fold, X_test_fold = X_train_sel[feat_list.values.flatten()].loc[train_index], X_train_sel[feat_list.values.flatten()].loc[test_index]\n",
    "        y_train_fold, y_test_fold = y_train.loc[train_index], y_train.loc[test_index]\n",
    "        \n",
    "        # Train the model on the current fold\n",
    "        exported_pipeline.fit(X_train_fold, y_train_fold)\n",
    "        y_pred_fold = exported_pipeline.predict(X_test_fold)\n",
    "        \n",
    "        # Calculate RMSE, R2, and Pearson correlation\n",
    "        rmse = np.sqrt(mean_squared_error(y_test_fold, y_pred_fold))\n",
    "        r2 = r2_score(y_test_fold, y_pred_fold)\n",
    "        pearson_corr, _ = pearsonr(y_test_fold.values.flatten(), y_pred_fold.flatten())\n",
    "        \n",
    "        # Store the scores\n",
    "        rmse_scores = np.append(rmse_scores, rmse)\n",
    "        r2_scores = np.append(r2_scores, r2)\n",
    "        pearson_corrs = np.append(pearson_corrs, pearson_corr)\n",
    "        \n",
    "    results.append({\n",
    "        \"Method\": \"TPOT\",\n",
    "        \"Feat set\": feat_name,\n",
    "        \"Model params\": exported_pipeline,\n",
    "        \"CV Mean RMSE (10-fold)\": round(np.mean(rmse_scores), 3), \n",
    "        \"CV Std RMSE (10-fold)\": round(np.std(rmse_scores), 3),\n",
    "        \"CV Mean R2 (10-fold)\": round(np.mean(r2_scores), 3),\n",
    "        \"CV Std R2 (10-fold)\": round(np.std(r2_scores), 3),\n",
    "        \"CV Mean Pearson (10-fold)\": round(np.mean(pearson_corrs), 3),\n",
    "        \"CV Std Pearson (10-fold)\": round(np.std(pearson_corrs), 3),\n",
    "        \"Test 1 RMSE\": round(rmse_1, 3),\n",
    "        \"Test 1 R2\"  : round(r2_1, 3),\n",
    "        \"Test 1 Pearson\" : round(pearson_corr_1, 3),\n",
    "        \"Test 2 RMSE\": round(rmse_2, 3),\n",
    "        \"Test 2 R2\"  : round(r2_2, 3),\n",
    "        \"Test 2 Pearson\" : round(pearson_corr_2, 3),\n",
    "        \"Test 3 RMSE\": round(rmse_3, 3),\n",
    "        \"Test 3 R2\"  : round(r2_3, 3),\n",
    "        \"Test 3 Pearson\" : round(pearson_corr_3, 3)\n",
    "        })\n",
    "    results_df = pd.DataFrame(results)\n",
    "    \n",
    "    results_df_autosklearn_save_path = result_path + 'Autosklearn_ddmut_results.csv'\n",
    "    results_df.to_csv(results_df_autosklearn_save_path)"
   ]
  },
  {
   "cell_type": "code",
   "execution_count": null,
   "id": "09fc9ade-7479-41cf-a47a-dc35b17023a9",
   "metadata": {},
   "outputs": [],
   "source": []
  }
 ],
 "metadata": {
  "kernelspec": {
   "display_name": "Python 3 (ipykernel)",
   "language": "python",
   "name": "python3"
  },
  "language_info": {
   "codemirror_mode": {
    "name": "ipython",
    "version": 3
   },
   "file_extension": ".py",
   "mimetype": "text/x-python",
   "name": "python",
   "nbconvert_exporter": "python",
   "pygments_lexer": "ipython3",
   "version": "3.7.0"
  }
 },
 "nbformat": 4,
 "nbformat_minor": 5
}
