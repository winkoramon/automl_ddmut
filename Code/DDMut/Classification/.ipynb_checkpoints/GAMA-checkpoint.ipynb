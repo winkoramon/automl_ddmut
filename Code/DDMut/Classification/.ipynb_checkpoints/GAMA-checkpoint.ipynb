{
 "cells": [
  {
   "cell_type": "code",
   "execution_count": 1,
   "id": "6910cac5-753d-4752-becb-371c88cfb2ad",
   "metadata": {
    "tags": []
   },
   "outputs": [],
   "source": [
    "import numpy as np\n",
    "import pandas as pd"
   ]
  },
  {
   "cell_type": "code",
   "execution_count": 6,
   "id": "a73a2957-e777-426b-a707-00e0f1ffc72b",
   "metadata": {
    "tags": []
   },
   "outputs": [],
   "source": [
    "import sklearn\n",
    "from sklearn.model_selection import train_test_split\n",
    "from sklearn.metrics import log_loss, accuracy_score\n",
    "from gama import GamaClassifier"
   ]
  },
  {
   "cell_type": "markdown",
   "id": "f0303f27-d102-4781-a54a-5a27498f5e31",
   "metadata": {},
   "source": [
    "Manual: https://github.com/openml-labs/gama"
   ]
  },
  {
   "cell_type": "markdown",
   "id": "1d0d2d90-010b-4cd4-8f5e-738bc02ea1dd",
   "metadata": {},
   "source": [
    "1. Data Processing"
   ]
  },
  {
   "cell_type": "code",
   "execution_count": 3,
   "id": "7953f92e-54e5-49f2-9a56-d3c6b48bb331",
   "metadata": {
    "tags": []
   },
   "outputs": [],
   "source": [
    "#Set Code path \n",
    "alg_path = '/home/korawich/Desktop/AutoML/Algorithm/GAMA'"
   ]
  },
  {
   "cell_type": "code",
   "execution_count": 4,
   "id": "4b0fc0fb-43a5-4f90-8e76-35647d0de32b",
   "metadata": {
    "tags": []
   },
   "outputs": [],
   "source": [
    "#Datafile \n",
    "#set data path\n",
    "save_path = '/home/korawich/Desktop/AutoML/Dataset/Bioresponse'\n",
    "#set save_path\n",
    "train_save_path = save_path + '/data_train.csv'\n",
    "val_save_path   = save_path + '/data_val.csv'\n",
    "test_save_path  = save_path + '/data_test.csv'\n",
    "\n",
    "#load files\n",
    "train_df = pd.read_csv(train_save_path, index_col=0)\n",
    "val_df   = pd.read_csv(val_save_path, index_col=0)\n",
    "test_df  = pd.read_csv(test_save_path, index_col=0)\n",
    "\n",
    "#set X&y\n",
    "X_train = train_df.loc[:, train_df.columns != 'target'].values\n",
    "y_train  = train_df.loc[:, train_df.columns == 'target'].values\n",
    "\n",
    "X_val = val_df.loc[:, val_df.columns != 'target'].values\n",
    "y_val  = val_df.loc[:, val_df.columns == 'target'].values\n",
    "\n",
    "X_test = test_df.loc[:, test_df.columns != 'target'].values\n",
    "y_test  = test_df.loc[:, test_df.columns == 'target'].values"
   ]
  },
  {
   "cell_type": "code",
   "execution_count": null,
   "id": "7e597373-db37-4c90-81a3-00f429b6553e",
   "metadata": {},
   "outputs": [],
   "source": []
  },
  {
   "cell_type": "markdown",
   "id": "ac7b63ad-ca78-4b39-914c-754bbb0ab986",
   "metadata": {},
   "source": [
    "2. GAMA"
   ]
  },
  {
   "cell_type": "code",
   "execution_count": 5,
   "id": "0a08bb3c-ed8a-4f7f-a78a-b021888ae515",
   "metadata": {
    "tags": []
   },
   "outputs": [
    {
     "ename": "NameError",
     "evalue": "name 'sklearn' is not defined",
     "output_type": "error",
     "traceback": [
      "\u001b[0;31m---------------------------------------------------------------------------\u001b[0m",
      "\u001b[0;31mNameError\u001b[0m                                 Traceback (most recent call last)",
      "\u001b[0;32m/tmp/ipykernel_6839/689242984.py\u001b[0m in \u001b[0;36m<module>\u001b[0;34m\u001b[0m\n\u001b[1;32m      5\u001b[0m \u001b[0mprob\u001b[0m \u001b[0;34m=\u001b[0m \u001b[0mautoml\u001b[0m\u001b[0;34m.\u001b[0m\u001b[0mpredict_proba\u001b[0m\u001b[0;34m(\u001b[0m\u001b[0mX_test\u001b[0m\u001b[0;34m)\u001b[0m\u001b[0;34m\u001b[0m\u001b[0;34m\u001b[0m\u001b[0m\n\u001b[1;32m      6\u001b[0m \u001b[0;34m\u001b[0m\u001b[0m\n\u001b[0;32m----> 7\u001b[0;31m \u001b[0mprint\u001b[0m\u001b[0;34m(\u001b[0m\u001b[0;34m\"MCC score:\"\u001b[0m\u001b[0;34m,\u001b[0m \u001b[0msklearn\u001b[0m\u001b[0;34m.\u001b[0m\u001b[0mmetrics\u001b[0m\u001b[0;34m.\u001b[0m\u001b[0mmatthews_corrcoef\u001b[0m\u001b[0;34m(\u001b[0m\u001b[0my_test\u001b[0m\u001b[0;34m,\u001b[0m \u001b[0mpred\u001b[0m\u001b[0;34m)\u001b[0m\u001b[0;34m)\u001b[0m\u001b[0;34m\u001b[0m\u001b[0;34m\u001b[0m\u001b[0m\n\u001b[0m",
      "\u001b[0;31mNameError\u001b[0m: name 'sklearn' is not defined"
     ]
    }
   ],
   "source": [
    "automl = GamaClassifier(max_total_time=180, store=\"nothing\")\n",
    "automl.fit(X_train, y_train)"
   ]
  },
  {
   "cell_type": "code",
   "execution_count": 7,
   "id": "24bad7bb-0c0b-4e85-8521-62cc8d17c66d",
   "metadata": {
    "tags": []
   },
   "outputs": [
    {
     "name": "stdout",
     "output_type": "stream",
     "text": [
      "MCC score: 0.48225609611712783\n"
     ]
    }
   ],
   "source": [
    "pred = automl.predict(X_test)\n",
    "prob = automl.predict_proba(X_test)\n",
    "\n",
    "print(\"MCC score:\", sklearn.metrics.matthews_corrcoef(y_test, pred))"
   ]
  }
 ],
 "metadata": {
  "kernelspec": {
   "display_name": "Python 3 (ipykernel)",
   "language": "python",
   "name": "python3"
  },
  "language_info": {
   "codemirror_mode": {
    "name": "ipython",
    "version": 3
   },
   "file_extension": ".py",
   "mimetype": "text/x-python",
   "name": "python",
   "nbconvert_exporter": "python",
   "pygments_lexer": "ipython3",
   "version": "3.7.16"
  }
 },
 "nbformat": 4,
 "nbformat_minor": 5
}
