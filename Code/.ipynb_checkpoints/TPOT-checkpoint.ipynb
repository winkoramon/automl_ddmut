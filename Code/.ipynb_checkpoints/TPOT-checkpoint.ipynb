{
 "cells": [
  {
   "cell_type": "code",
   "execution_count": 1,
   "id": "9c3c358f-1287-45c8-b475-90b54a5e23b7",
   "metadata": {},
   "outputs": [],
   "source": [
    "import numpy as np\n",
    "import pandas as pd"
   ]
  },
  {
   "cell_type": "code",
   "execution_count": 2,
   "id": "ef05444b-4b25-4ec1-8f4b-d6fe9219c09d",
   "metadata": {},
   "outputs": [],
   "source": [
    "from tpot import TPOTClassifier"
   ]
  },
  {
   "cell_type": "code",
   "execution_count": 3,
   "id": "c9c3878d-aefd-4d8c-945b-ce5eed2e8eb2",
   "metadata": {},
   "outputs": [],
   "source": [
    "import warnings\n",
    "warnings.filterwarnings('ignore')"
   ]
  },
  {
   "cell_type": "markdown",
   "id": "91ef3594-3211-41c1-b1ef-f8bc0a330844",
   "metadata": {},
   "source": [
    "1) DATA PROCESSING"
   ]
  },
  {
   "cell_type": "code",
   "execution_count": 4,
   "id": "713ace4d-5f18-4d22-a504-8998cd280eda",
   "metadata": {},
   "outputs": [],
   "source": [
    "#Set Code path \n",
    "alg_path = '/home/korawich/Desktop/AutoML/Algorithm/TPOT'"
   ]
  },
  {
   "cell_type": "code",
   "execution_count": 5,
   "id": "83896615-cedb-4bfa-8edb-23256b56a35a",
   "metadata": {},
   "outputs": [],
   "source": [
    "#Datafile \n",
    "#set data path\n",
    "save_path = '/home/korawich/Desktop/AutoML/Dataset/Bioresponse'\n",
    "#set save_path\n",
    "train_save_path = save_path + '/data_train.csv'\n",
    "val_save_path   = save_path + '/data_val.csv'\n",
    "test_save_path  = save_path + '/data_test.csv'\n",
    "\n",
    "#load files\n",
    "train_df = pd.read_csv(train_save_path, index_col=0)\n",
    "val_df   = pd.read_csv(val_save_path, index_col=0)\n",
    "test_df  = pd.read_csv(test_save_path, index_col=0)\n",
    "\n",
    "#set X&y\n",
    "X_train = train_df.loc[:, train_df.columns != 'target'].values\n",
    "y_train  = train_df.loc[:, train_df.columns == 'target'].values\n",
    "\n",
    "X_val = val_df.loc[:, val_df.columns != 'target'].values\n",
    "y_val  = val_df.loc[:, val_df.columns == 'target'].values\n",
    "\n",
    "X_test = test_df.loc[:, test_df.columns != 'target'].values\n",
    "y_test  = test_df.loc[:, test_df.columns == 'target'].values"
   ]
  },
  {
   "cell_type": "markdown",
   "id": "ff745d24-2db8-4d6c-be52-e5d651a1e992",
   "metadata": {},
   "source": [
    "2. TPOT"
   ]
  },
  {
   "cell_type": "code",
   "execution_count": 6,
   "id": "38778fbd-2ac0-4ca9-825f-133ca966a0e2",
   "metadata": {},
   "outputs": [],
   "source": [
    "#set up search space\n",
    "tpot_config = {\n",
    "    'sklearn.ensemble.AdaBoostClassifier': {\n",
    "        'n_estimator': [5, 10, 15, 20, 50, 100, 150, 200, 250, 300, 400, 500, 750, 1000, 1500, 2000, 2500, 3000],\n",
    "        'learning_rate': [0.01, 0.02, 0.03, 0.04, 0.05, 0.075, 0.1, 0.2, 0.3, 0.4, 0.5, 0.6, 0.7, 0.8, 0.9, 1, 1.25, 1.5, 1.75, 2],\n",
    "        'algorithm': ['SAMME.R', 'SAMME']\n",
    "    },\n",
    "    'sklearn.tree.DecisionTreeClassifier': {\n",
    "        'max_depth': [1, 2, 3, 4, 5, 6, 7, 8, 9, 10, None], #None indicates no limit\n",
    "    },\n",
    "    'sklearn.ensemble.ExtraTreesClassifier': {\n",
    "        'n_estimator': [5, 10, 15, 20, 50, 100, 150, 200, 250, 300, 400, 500, 750, 1000, 1500, 2000, 2500, 3000],\n",
    "        'max_depth': [1, 2, 3, 4, 5, 6, 7, 8, 9, 10, None], #None indicates no limit\n",
    "    },\n",
    "    'sklearn.ensemble.RandomForestClassifier': {\n",
    "        'n_estimator': [5, 10, 15, 20, 50, 100, 150, 200, 250, 300, 400, 500, 750, 1000, 1500, 2000, 2500, 3000],\n",
    "        'max_depth': [1, 2, 3, 4, 5, 6, 7, 8, 9, 10, None], #None indicates no limit\n",
    "    },\n",
    "    'sklearn.ensemble.GradientBoostingClassifier': {\n",
    "        'n_estimator': [5, 10, 15, 20, 50, 100, 150, 200, 250, 300, 400, 500, 750, 1000, 1500, 2000, 2500, 3000],\n",
    "        'learning_rate': [0.01, 0.02, 0.03, 0.04, 0.05, 0.075, 0.1, 0.2, 0.3, 0.4, 0.5, 0.6, 0.7, 0.8, 0.9, 1, 1.25, 1.5, 1.75, 2],\n",
    "        'max_depth': [1, 2, 3, 4, 5, 6, 7, 8, 9, 10, None], #None indicates no limit\n",
    "    },\n",
    "    'xgboost.XGBClassifier': {\n",
    "        'n_estimator': [5, 10, 15, 20, 50, 100, 150, 200, 250, 300, 400, 500, 750, 1000, 1500, 2000, 2500, 3000],\n",
    "        'max_depth': [1, 2, 3, 4, 5, 6, 7, 8, 9, 10, 0], #None indicates no limit\n",
    "        'max_leaves': [1, 2, 3, 4, 5, 6, 7, 8, 9, 10]\n",
    "    }\n",
    "}"
   ]
  },
  {
   "cell_type": "code",
   "execution_count": null,
   "id": "753c7608-9ad2-40f9-a423-888246bcde64",
   "metadata": {},
   "outputs": [
    {
     "name": "stderr",
     "output_type": "stream",
     "text": [
      "Version 0.12.1 of tpot is outdated. Version 0.12.2 was released Friday February 23, 2024.\n"
     ]
    },
    {
     "name": "stdout",
     "output_type": "stream",
     "text": [
      "Optimization Progress:   0%|                                                                                                  | 0/10100 [00:00<?, ?pipeline/s]"
     ]
    }
   ],
   "source": [
    "#The default parameter is set to be the same as in TPOT_paper\n",
    "tpot = TPOTClassifier(generations=100, #number of generations (generally 100 !!!!)\n",
    "                      population_size=100, #number of populations retained every generation\n",
    "                      offspring_size=None, #default = equal to pop. size.\n",
    "                      mutation_rate=0.9, #mutation rate\n",
    "                      crossover_rate=0.05, #cross over rate\n",
    "                      scoring='matthews_corrcoef', #scoring metrics\n",
    "                      cv=10, #number of cross-validation (5 or 10 ??)\n",
    "                      subsample=1.0, \n",
    "                      n_jobs=-1,\n",
    "                      max_time_mins=None, \n",
    "                      max_eval_time_mins=5,\n",
    "                      random_state=42, \n",
    "                      config_dict=tpot_config, #set up operators & parameters that TPOT searches\n",
    "                      template=None, #template of pre-defined pipelines\n",
    "                      warm_start=False, #default no.\n",
    "                      memory=None,  #default no. memory caching for identical fitted pipeline\n",
    "                      use_dask=False, #default no. to use Dask-ML's pipeline optimisations\n",
    "                      periodic_checkpoint_folder=None, #default no.\n",
    "                      early_stop=None, #default no.\n",
    "                      verbosity=2, #default 0. How much information TPOT communicates while it's running (0-3)\n",
    "                      disable_update_check=False,\n",
    "                      log_file=None\n",
    "                    )\n",
    "\n",
    "tpot.fit(X_train, y_train)\n",
    "print(tpot.score(X_test, y_test))\n",
    "#pipeline_save_path = alg_path + '/tpot_digits_pipeline.py'\n",
    "#tpot.export('tpot_digits_pipeline.py')"
   ]
  },
  {
   "cell_type": "code",
   "execution_count": null,
   "id": "bdb0743c-400e-4b33-a255-3008f9caf9bc",
   "metadata": {},
   "outputs": [],
   "source": []
  }
 ],
 "metadata": {
  "kernelspec": {
   "display_name": "Python 3 (ipykernel)",
   "language": "python",
   "name": "python3"
  },
  "language_info": {
   "codemirror_mode": {
    "name": "ipython",
    "version": 3
   },
   "file_extension": ".py",
   "mimetype": "text/x-python",
   "name": "python",
   "nbconvert_exporter": "python",
   "pygments_lexer": "ipython3",
   "version": "3.8.0"
  }
 },
 "nbformat": 4,
 "nbformat_minor": 5
}
