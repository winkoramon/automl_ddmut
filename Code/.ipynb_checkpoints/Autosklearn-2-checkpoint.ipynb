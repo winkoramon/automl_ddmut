{
 "cells": [
  {
   "cell_type": "markdown",
   "id": "59b45fdf-8660-4a28-b2fa-e598d6f359d6",
   "metadata": {},
   "source": [
    "Paper: https://arxiv.org/pdf/2007.04074"
   ]
  },
  {
   "cell_type": "markdown",
   "id": "adcc6474-eb06-40c1-90d6-e7788aac9478",
   "metadata": {},
   "source": [
    "Manual: https://automl.github.io/auto-sklearn/master/examples/20_basic/example_classification.html#sphx-glr-examples-20-basic-example-classification-py"
   ]
  },
  {
   "cell_type": "code",
   "execution_count": 1,
   "id": "461c8784-3efc-4033-91fb-7d0be57f03c5",
   "metadata": {
    "tags": []
   },
   "outputs": [],
   "source": [
    "import numpy as np\n",
    "import pandas as pd"
   ]
  },
  {
   "cell_type": "code",
   "execution_count": 2,
   "id": "3074a26e-e458-4387-8b16-6fc454cdf82b",
   "metadata": {
    "tags": []
   },
   "outputs": [],
   "source": [
    "from pprint import pprint\n",
    "\n",
    "import sklearn.datasets\n",
    "import sklearn.metrics\n",
    "\n",
    "import autosklearn.classification"
   ]
  },
  {
   "cell_type": "code",
   "execution_count": 3,
   "id": "01eb00c2-1d87-41d8-b4a7-284e9fa2c0fc",
   "metadata": {
    "tags": []
   },
   "outputs": [
    {
     "data": {
      "text/plain": [
       "'0.15.0'"
      ]
     },
     "execution_count": 3,
     "metadata": {},
     "output_type": "execute_result"
    }
   ],
   "source": [
    "autosklearn.__version__"
   ]
  },
  {
   "cell_type": "markdown",
   "id": "77c18194-e64f-48e5-868c-d4453ef6ad11",
   "metadata": {},
   "source": [
    "1. Data Processing"
   ]
  },
  {
   "cell_type": "code",
   "execution_count": 4,
   "id": "c6c69083-2590-4420-bf5d-f430366ad8c8",
   "metadata": {
    "tags": []
   },
   "outputs": [],
   "source": [
    "#Set Code path \n",
    "alg_path = '/home/korawich/Desktop/AutoML/Algorithm/Auto-sklearn'"
   ]
  },
  {
   "cell_type": "code",
   "execution_count": 5,
   "id": "bb052b74-5f41-47f9-a960-5465a3b20ba8",
   "metadata": {
    "tags": []
   },
   "outputs": [],
   "source": [
    "#Datafile \n",
    "#set data path\n",
    "save_path = '/home/korawich/Desktop/AutoML/Dataset/Bioresponse'\n",
    "#set save_path\n",
    "train_save_path = save_path + '/data_train.csv'\n",
    "val_save_path   = save_path + '/data_val.csv'\n",
    "test_save_path  = save_path + '/data_test.csv'\n",
    "\n",
    "#load files\n",
    "train_df = pd.read_csv(train_save_path, index_col=0)\n",
    "val_df   = pd.read_csv(val_save_path, index_col=0)\n",
    "test_df  = pd.read_csv(test_save_path, index_col=0)\n",
    "\n",
    "#set X&y\n",
    "X_train = train_df.loc[:, train_df.columns != 'target'].values\n",
    "y_train  = train_df.loc[:, train_df.columns == 'target'].values\n",
    "\n",
    "X_val = val_df.loc[:, val_df.columns != 'target'].values\n",
    "y_val  = val_df.loc[:, val_df.columns == 'target'].values\n",
    "\n",
    "X_test = test_df.loc[:, test_df.columns != 'target'].values\n",
    "y_test  = test_df.loc[:, test_df.columns == 'target'].values"
   ]
  },
  {
   "cell_type": "markdown",
   "id": "6dc835f0-ddb0-438d-a551-cc2ac6ec1862",
   "metadata": {},
   "source": [
    "2. Autosklearn"
   ]
  },
  {
   "cell_type": "code",
   "execution_count": 6,
   "id": "4a13fc44-aea9-4b03-9b32-5f140416cb11",
   "metadata": {
    "tags": []
   },
   "outputs": [],
   "source": [
    "#Set search space -> same as in table 18 of Autosklearn 2.0 paper (2020)\n",
    "\n",
    "search_space_dict = {\n",
    "            'classifier': [\n",
    "                \"extra_trees\",\n",
    "                \"gradient_boosting\",\n",
    "                \"mlp\",\n",
    "                \"passive_aggressive\",\n",
    "                \"random_forest\",\n",
    "                \"sgd\"],\n",
    "            'feature_preprocessor': [\"no_preprocessing\"]\n",
    "}"
   ]
  },
  {
   "cell_type": "code",
   "execution_count": 7,
   "id": "21ab7092-66ce-4cd6-9377-23f1b45bdee0",
   "metadata": {
    "tags": []
   },
   "outputs": [],
   "source": [
    "#use custom metrics\n",
    "def mcc(y_test, prediction):\n",
    "    \n",
    "    mcc_score = sklearn.metrics.matthews_corrcoef(y_test, prediction)\n",
    "    \n",
    "    return mcc_score\n",
    "\n",
    "mcc_scorer = autosklearn.metrics.make_scorer(\n",
    "    name=\"mcc\",\n",
    "    score_func=mcc,\n",
    "    optimum=1,\n",
    "    greater_is_better=True,\n",
    "    needs_proba=False,\n",
    "    needs_threshold=False\n",
    ")"
   ]
  },
  {
   "cell_type": "code",
   "execution_count": 8,
   "id": "3f0b0bb5-506c-472b-a636-967912ded179",
   "metadata": {
    "tags": []
   },
   "outputs": [
    {
     "name": "stderr",
     "output_type": "stream",
     "text": [
      "/home/korawich/anaconda3/envs/atml_autosklearn/lib/python3.7/site-packages/ipykernel_launcher.py:13: DeprecationWarning: `ensemble_size` has been deprecated, please use `ensemble_kwargs = {'ensemble_size': 1}`. Inserting `ensemble_size` into `ensemble_kwargs` for now. `ensemble_size` will be removed in auto-sklearn 0.16.\n",
      "  del sys.path[0]\n"
     ]
    }
   ],
   "source": [
    "automl = autosklearn.classification.AutoSklearnClassifier(\n",
    "    ensemble_size=1, #use in the paper, always choosing the current best model\n",
    "    initial_configurations_via_metalearning=0,\n",
    "    allow_string_features=False,\n",
    "    time_left_for_this_task=1200,\n",
    "    per_run_time_limit=120,\n",
    "    resampling_strategy=\"cv\",\n",
    "    resampling_strategy_arguments={\"folds\": 10},\n",
    "    metric=mcc_scorer,\n",
    "    seed=1,\n",
    "    include=search_space_dict,\n",
    "    exclude=None,\n",
    "    delete_tmp_folder_after_terminate=False\n",
    ")"
   ]
  },
  {
   "cell_type": "code",
   "execution_count": 9,
   "id": "fc8935b6-b10c-451a-849b-fd8722a1fe0e",
   "metadata": {
    "tags": []
   },
   "outputs": [
    {
     "name": "stderr",
     "output_type": "stream",
     "text": [
      "/home/korawich/anaconda3/envs/atml_autosklearn/lib/python3.7/site-packages/sklearn/metrics/_classification.py:873: RuntimeWarning: invalid value encountered in double_scalars\n",
      "  mcc = cov_ytyp / np.sqrt(cov_ytyt * cov_ypyp)\n",
      "/home/korawich/anaconda3/envs/atml_autosklearn/lib/python3.7/site-packages/sklearn/metrics/_classification.py:873: RuntimeWarning: invalid value encountered in double_scalars\n",
      "  mcc = cov_ytyp / np.sqrt(cov_ytyt * cov_ypyp)\n",
      "/home/korawich/anaconda3/envs/atml_autosklearn/lib/python3.7/site-packages/sklearn/metrics/_classification.py:873: RuntimeWarning: invalid value encountered in double_scalars\n",
      "  mcc = cov_ytyp / np.sqrt(cov_ytyt * cov_ypyp)\n",
      "/home/korawich/anaconda3/envs/atml_autosklearn/lib/python3.7/site-packages/sklearn/metrics/_classification.py:873: RuntimeWarning: invalid value encountered in double_scalars\n",
      "  mcc = cov_ytyp / np.sqrt(cov_ytyt * cov_ypyp)\n",
      "/home/korawich/anaconda3/envs/atml_autosklearn/lib/python3.7/site-packages/sklearn/metrics/_classification.py:873: RuntimeWarning: invalid value encountered in double_scalars\n",
      "  mcc = cov_ytyp / np.sqrt(cov_ytyt * cov_ypyp)\n",
      "/home/korawich/anaconda3/envs/atml_autosklearn/lib/python3.7/site-packages/sklearn/metrics/_classification.py:873: RuntimeWarning: invalid value encountered in double_scalars\n",
      "  mcc = cov_ytyp / np.sqrt(cov_ytyt * cov_ypyp)\n",
      "/home/korawich/anaconda3/envs/atml_autosklearn/lib/python3.7/site-packages/sklearn/metrics/_classification.py:873: RuntimeWarning: invalid value encountered in double_scalars\n",
      "  mcc = cov_ytyp / np.sqrt(cov_ytyt * cov_ypyp)\n",
      "/home/korawich/anaconda3/envs/atml_autosklearn/lib/python3.7/site-packages/sklearn/metrics/_classification.py:873: RuntimeWarning: invalid value encountered in double_scalars\n",
      "  mcc = cov_ytyp / np.sqrt(cov_ytyt * cov_ypyp)\n",
      "/home/korawich/anaconda3/envs/atml_autosklearn/lib/python3.7/site-packages/sklearn/metrics/_classification.py:873: RuntimeWarning: invalid value encountered in double_scalars\n",
      "  mcc = cov_ytyp / np.sqrt(cov_ytyt * cov_ypyp)\n",
      "/home/korawich/anaconda3/envs/atml_autosklearn/lib/python3.7/site-packages/sklearn/metrics/_classification.py:873: RuntimeWarning: invalid value encountered in double_scalars\n",
      "  mcc = cov_ytyp / np.sqrt(cov_ytyt * cov_ypyp)\n",
      "/home/korawich/anaconda3/envs/atml_autosklearn/lib/python3.7/site-packages/sklearn/metrics/_classification.py:873: RuntimeWarning: invalid value encountered in double_scalars\n",
      "  mcc = cov_ytyp / np.sqrt(cov_ytyt * cov_ypyp)\n",
      "/home/korawich/anaconda3/envs/atml_autosklearn/lib/python3.7/site-packages/sklearn/metrics/_classification.py:873: RuntimeWarning: invalid value encountered in double_scalars\n",
      "  mcc = cov_ytyp / np.sqrt(cov_ytyt * cov_ypyp)\n",
      "/home/korawich/anaconda3/envs/atml_autosklearn/lib/python3.7/site-packages/sklearn/metrics/_classification.py:873: RuntimeWarning: invalid value encountered in double_scalars\n",
      "  mcc = cov_ytyp / np.sqrt(cov_ytyt * cov_ypyp)\n",
      "/home/korawich/anaconda3/envs/atml_autosklearn/lib/python3.7/site-packages/sklearn/metrics/_classification.py:873: RuntimeWarning: invalid value encountered in double_scalars\n",
      "  mcc = cov_ytyp / np.sqrt(cov_ytyt * cov_ypyp)\n",
      "/home/korawich/anaconda3/envs/atml_autosklearn/lib/python3.7/site-packages/sklearn/metrics/_classification.py:873: RuntimeWarning: invalid value encountered in double_scalars\n",
      "  mcc = cov_ytyp / np.sqrt(cov_ytyt * cov_ypyp)\n",
      "/home/korawich/anaconda3/envs/atml_autosklearn/lib/python3.7/site-packages/sklearn/metrics/_classification.py:873: RuntimeWarning: invalid value encountered in double_scalars\n",
      "  mcc = cov_ytyp / np.sqrt(cov_ytyt * cov_ypyp)\n",
      "/home/korawich/anaconda3/envs/atml_autosklearn/lib/python3.7/site-packages/sklearn/metrics/_classification.py:873: RuntimeWarning: invalid value encountered in double_scalars\n",
      "  mcc = cov_ytyp / np.sqrt(cov_ytyt * cov_ypyp)\n",
      "/home/korawich/anaconda3/envs/atml_autosklearn/lib/python3.7/site-packages/sklearn/metrics/_classification.py:873: RuntimeWarning: invalid value encountered in double_scalars\n",
      "  mcc = cov_ytyp / np.sqrt(cov_ytyt * cov_ypyp)\n",
      "/home/korawich/anaconda3/envs/atml_autosklearn/lib/python3.7/site-packages/sklearn/metrics/_classification.py:873: RuntimeWarning: invalid value encountered in double_scalars\n",
      "  mcc = cov_ytyp / np.sqrt(cov_ytyt * cov_ypyp)\n",
      "/home/korawich/anaconda3/envs/atml_autosklearn/lib/python3.7/site-packages/sklearn/metrics/_classification.py:873: RuntimeWarning: invalid value encountered in double_scalars\n",
      "  mcc = cov_ytyp / np.sqrt(cov_ytyt * cov_ypyp)\n",
      "/home/korawich/anaconda3/envs/atml_autosklearn/lib/python3.7/site-packages/sklearn/metrics/_classification.py:873: RuntimeWarning: invalid value encountered in double_scalars\n",
      "  mcc = cov_ytyp / np.sqrt(cov_ytyt * cov_ypyp)\n",
      "/home/korawich/anaconda3/envs/atml_autosklearn/lib/python3.7/site-packages/sklearn/metrics/_classification.py:873: RuntimeWarning: invalid value encountered in double_scalars\n",
      "  mcc = cov_ytyp / np.sqrt(cov_ytyt * cov_ypyp)\n",
      "/home/korawich/anaconda3/envs/atml_autosklearn/lib/python3.7/site-packages/sklearn/metrics/_classification.py:873: RuntimeWarning: invalid value encountered in double_scalars\n",
      "  mcc = cov_ytyp / np.sqrt(cov_ytyt * cov_ypyp)\n"
     ]
    },
    {
     "data": {
      "text/plain": [
       "AutoSklearnClassifier(allow_string_features=False,\n",
       "                      delete_tmp_folder_after_terminate=False,\n",
       "                      ensemble_class=<class 'autosklearn.ensembles.ensemble_selection.EnsembleSelection'>,\n",
       "                      ensemble_kwargs={'ensemble_size': 1}, ensemble_size=1,\n",
       "                      include={'classifier': ['extra_trees',\n",
       "                                              'gradient_boosting', 'mlp',\n",
       "                                              'passive_aggressive',\n",
       "                                              'random_forest', 'sgd'],\n",
       "                               'feature_preprocessor': ['no_preprocessing']},\n",
       "                      initial_configurations_via_metalearning=0, metric=mcc,\n",
       "                      per_run_time_limit=120, resampling_strategy='cv',\n",
       "                      resampling_strategy_arguments={'folds': 10},\n",
       "                      time_left_for_this_task=1200)"
      ]
     },
     "execution_count": 9,
     "metadata": {},
     "output_type": "execute_result"
    }
   ],
   "source": [
    "automl.fit(X_train, y_train, dataset_name=\"bioresponse\")"
   ]
  },
  {
   "cell_type": "code",
   "execution_count": 10,
   "id": "3202bd1f-26ca-46f7-8d68-f28017a953ad",
   "metadata": {
    "tags": []
   },
   "outputs": [
    {
     "name": "stdout",
     "output_type": "stream",
     "text": [
      "          rank  ensemble_weight           type      cost  duration\n",
      "model_id                                                          \n",
      "2            1              1.0  random_forest  0.437622  57.59792\n"
     ]
    }
   ],
   "source": [
    "print(automl.leaderboard())"
   ]
  },
  {
   "cell_type": "code",
   "execution_count": 11,
   "id": "db076554",
   "metadata": {},
   "outputs": [],
   "source": [
    "#During fit(), models are fit on individual cross-validation folds.\n",
    "#Refit use models on whole datasets\n",
    "automl.refit(X_train.copy(), y_train)\n",
    "predictions = automl.predict(X_test)\n",
    "print(\"MCC score:\", sklearn.metrics.matthews_corrcoef(y_test, predictions))"
   ]
  },
  {
   "cell_type": "code",
   "execution_count": 12,
   "id": "05d3e920-a7cd-4ab3-8ac3-3bd54c217020",
   "metadata": {
    "tags": []
   },
   "outputs": [
    {
     "name": "stdout",
     "output_type": "stream",
     "text": [
      "{   2: {   'cost': 0.43762151632703433,\n",
      "           'ensemble_weight': 1.0,\n",
      "           'estimators': [   {   'balancing': Balancing(random_state=1),\n",
      "                                 'classifier': <autosklearn.pipeline.components.classification.ClassifierChoice object at 0x7f297b8a3c50>,\n",
      "                                 'data_preprocessor': <autosklearn.pipeline.components.data_preprocessing.DataPreprocessorChoice object at 0x7f297b97c5c0>,\n",
      "                                 'feature_preprocessor': <autosklearn.pipeline.components.feature_preprocessing.FeaturePreprocessorChoice object at 0x7f297b8a3860>,\n",
      "                                 'sklearn_classifier': RandomForestClassifier(max_features=20, n_estimators=512, n_jobs=1,\n",
      "                       random_state=1, warm_start=True)},\n",
      "                             {   'balancing': Balancing(random_state=1),\n",
      "                                 'classifier': <autosklearn.pipeline.components.classification.ClassifierChoice object at 0x7f297babb518>,\n",
      "                                 'data_preprocessor': <autosklearn.pipeline.components.data_preprocessing.DataPreprocessorChoice object at 0x7f297b8dde48>,\n",
      "                                 'feature_preprocessor': <autosklearn.pipeline.components.feature_preprocessing.FeaturePreprocessorChoice object at 0x7f297babb6d8>,\n",
      "                                 'sklearn_classifier': RandomForestClassifier(max_features=20, n_estimators=512, n_jobs=1,\n",
      "                       random_state=1, warm_start=True)},\n",
      "                             {   'balancing': Balancing(random_state=1),\n",
      "                                 'classifier': <autosklearn.pipeline.components.classification.ClassifierChoice object at 0x7f297b5a2780>,\n",
      "                                 'data_preprocessor': <autosklearn.pipeline.components.data_preprocessing.DataPreprocessorChoice object at 0x7f297b669a90>,\n",
      "                                 'feature_preprocessor': <autosklearn.pipeline.components.feature_preprocessing.FeaturePreprocessorChoice object at 0x7f297b5a2710>,\n",
      "                                 'sklearn_classifier': RandomForestClassifier(max_features=20, n_estimators=512, n_jobs=1,\n",
      "                       random_state=1, warm_start=True)},\n",
      "                             {   'balancing': Balancing(random_state=1),\n",
      "                                 'classifier': <autosklearn.pipeline.components.classification.ClassifierChoice object at 0x7f297b3bec50>,\n",
      "                                 'data_preprocessor': <autosklearn.pipeline.components.data_preprocessing.DataPreprocessorChoice object at 0x7f297b404f60>,\n",
      "                                 'feature_preprocessor': <autosklearn.pipeline.components.feature_preprocessing.FeaturePreprocessorChoice object at 0x7f297b3bebe0>,\n",
      "                                 'sklearn_classifier': RandomForestClassifier(max_features=20, n_estimators=512, n_jobs=1,\n",
      "                       random_state=1, warm_start=True)},\n",
      "                             {   'balancing': Balancing(random_state=1),\n",
      "                                 'classifier': <autosklearn.pipeline.components.classification.ClassifierChoice object at 0x7f297b17a160>,\n",
      "                                 'data_preprocessor': <autosklearn.pipeline.components.data_preprocessing.DataPreprocessorChoice object at 0x7f297b234470>,\n",
      "                                 'feature_preprocessor': <autosklearn.pipeline.components.feature_preprocessing.FeaturePreprocessorChoice object at 0x7f297b17a0f0>,\n",
      "                                 'sklearn_classifier': RandomForestClassifier(max_features=20, n_estimators=512, n_jobs=1,\n",
      "                       random_state=1, warm_start=True)},\n",
      "                             {   'balancing': Balancing(random_state=1),\n",
      "                                 'classifier': <autosklearn.pipeline.components.classification.ClassifierChoice object at 0x7f297af14630>,\n",
      "                                 'data_preprocessor': <autosklearn.pipeline.components.data_preprocessing.DataPreprocessorChoice object at 0x7f297afd0940>,\n",
      "                                 'feature_preprocessor': <autosklearn.pipeline.components.feature_preprocessing.FeaturePreprocessorChoice object at 0x7f297af145c0>,\n",
      "                                 'sklearn_classifier': RandomForestClassifier(max_features=20, n_estimators=512, n_jobs=1,\n",
      "                       random_state=1, warm_start=True)},\n",
      "                             {   'balancing': Balancing(random_state=1),\n",
      "                                 'classifier': <autosklearn.pipeline.components.classification.ClassifierChoice object at 0x7f297ad30b00>,\n",
      "                                 'data_preprocessor': <autosklearn.pipeline.components.data_preprocessing.DataPreprocessorChoice object at 0x7f297adf7e10>,\n",
      "                                 'feature_preprocessor': <autosklearn.pipeline.components.feature_preprocessing.FeaturePreprocessorChoice object at 0x7f297ad30a90>,\n",
      "                                 'sklearn_classifier': RandomForestClassifier(max_features=20, n_estimators=512, n_jobs=1,\n",
      "                       random_state=1, warm_start=True)},\n",
      "                             {   'balancing': Balancing(random_state=1),\n",
      "                                 'classifier': <autosklearn.pipeline.components.classification.ClassifierChoice object at 0x7f297ab42fd0>,\n",
      "                                 'data_preprocessor': <autosklearn.pipeline.components.data_preprocessing.DataPreprocessorChoice object at 0x7f297ab5e320>,\n",
      "                                 'feature_preprocessor': <autosklearn.pipeline.components.feature_preprocessing.FeaturePreprocessorChoice object at 0x7f297ab42f60>,\n",
      "                                 'sklearn_classifier': RandomForestClassifier(max_features=20, n_estimators=512, n_jobs=1,\n",
      "                       random_state=1, warm_start=True)},\n",
      "                             {   'balancing': Balancing(random_state=1),\n",
      "                                 'classifier': <autosklearn.pipeline.components.classification.ClassifierChoice object at 0x7f297a8904e0>,\n",
      "                                 'data_preprocessor': <autosklearn.pipeline.components.data_preprocessing.DataPreprocessorChoice object at 0x7f297a9c17f0>,\n",
      "                                 'feature_preprocessor': <autosklearn.pipeline.components.feature_preprocessing.FeaturePreprocessorChoice object at 0x7f297a890470>,\n",
      "                                 'sklearn_classifier': RandomForestClassifier(max_features=20, n_estimators=512, n_jobs=1,\n",
      "                       random_state=1, warm_start=True)},\n",
      "                             {   'balancing': Balancing(random_state=1),\n",
      "                                 'classifier': <autosklearn.pipeline.components.classification.ClassifierChoice object at 0x7f29766a29b0>,\n",
      "                                 'data_preprocessor': <autosklearn.pipeline.components.data_preprocessing.DataPreprocessorChoice object at 0x7f2976764cc0>,\n",
      "                                 'feature_preprocessor': <autosklearn.pipeline.components.feature_preprocessing.FeaturePreprocessorChoice object at 0x7f29766a2940>,\n",
      "                                 'sklearn_classifier': RandomForestClassifier(max_features=20, n_estimators=512, n_jobs=1,\n",
      "                       random_state=1, warm_start=True)}],\n",
      "           'model_id': 2,\n",
      "           'rank': 1,\n",
      "           'voting_model': VotingClassifier(estimators=None, voting='soft')}}\n"
     ]
    }
   ],
   "source": [
    "#Report the models found by Auto-sklearn\n",
    "pprint(automl.show_models(), indent=4)"
   ]
  },
  {
   "cell_type": "code",
   "execution_count": 13,
   "id": "fd442abc-8c15-46d9-9aba-4b627b0dfc29",
   "metadata": {
    "tags": []
   },
   "outputs": [
    {
     "name": "stdout",
     "output_type": "stream",
     "text": [
      "auto-sklearn results:\n",
      "  Dataset name: bioresponse\n",
      "  Metric: mcc\n",
      "  Best validation score: 0.562378\n",
      "  Number of target algorithm runs: 23\n",
      "  Number of successful target algorithm runs: 18\n",
      "  Number of crashed target algorithm runs: 0\n",
      "  Number of target algorithms that exceeded the time limit: 4\n",
      "  Number of target algorithms that exceeded the memory limit: 1\n",
      "\n"
     ]
    }
   ],
   "source": [
    "#Report statistics about the search\n",
    "print(automl.sprint_statistics())"
   ]
  },
  {
   "cell_type": "code",
   "execution_count": null,
   "id": "4af93928-a8dc-47dc-8527-ec0b08cf7f26",
   "metadata": {},
   "outputs": [],
   "source": []
  }
 ],
 "metadata": {
  "kernelspec": {
   "display_name": "Python 3 (ipykernel)",
   "language": "python",
   "name": "python3"
  },
  "language_info": {
   "codemirror_mode": {
    "name": "ipython",
    "version": 3
   },
   "file_extension": ".py",
   "mimetype": "text/x-python",
   "name": "python",
   "nbconvert_exporter": "python",
   "pygments_lexer": "ipython3",
   "version": "3.7.0"
  }
 },
 "nbformat": 4,
 "nbformat_minor": 5
}
