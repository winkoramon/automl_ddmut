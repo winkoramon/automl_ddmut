{
 "cells": [
  {
   "cell_type": "code",
   "execution_count": 1,
   "id": "6910cac5-753d-4752-becb-371c88cfb2ad",
   "metadata": {
    "tags": []
   },
   "outputs": [],
   "source": [
    "import numpy as np\n",
    "import pandas as pd"
   ]
  },
  {
   "cell_type": "code",
   "execution_count": 2,
   "id": "a73a2957-e777-426b-a707-00e0f1ffc72b",
   "metadata": {
    "tags": []
   },
   "outputs": [],
   "source": [
    "from sklearn.model_selection import train_test_split\n",
    "from sklearn.metrics import log_loss, accuracy_score\n",
    "from gama import GamaClassifier"
   ]
  },
  {
   "cell_type": "markdown",
   "id": "f0303f27-d102-4781-a54a-5a27498f5e31",
   "metadata": {},
   "source": [
    "Manual: https://github.com/openml-labs/gama"
   ]
  },
  {
   "cell_type": "markdown",
   "id": "1d0d2d90-010b-4cd4-8f5e-738bc02ea1dd",
   "metadata": {},
   "source": [
    "1. Data Processing"
   ]
  },
  {
   "cell_type": "code",
   "execution_count": 3,
   "id": "7953f92e-54e5-49f2-9a56-d3c6b48bb331",
   "metadata": {
    "tags": []
   },
   "outputs": [],
   "source": [
    "#Set Code path \n",
    "alg_path = '/home/korawich/Desktop/AutoML/Algorithm/GAMA'"
   ]
  },
  {
   "cell_type": "code",
   "execution_count": 4,
   "id": "4b0fc0fb-43a5-4f90-8e76-35647d0de32b",
   "metadata": {
    "tags": []
   },
   "outputs": [],
   "source": [
    "#Datafile \n",
    "#set data path\n",
    "save_path = '/home/korawich/Desktop/AutoML/Dataset/Bioresponse'\n",
    "#set save_path\n",
    "train_save_path = save_path + '/data_train.csv'\n",
    "val_save_path   = save_path + '/data_val.csv'\n",
    "test_save_path  = save_path + '/data_test.csv'\n",
    "\n",
    "#load files\n",
    "train_df = pd.read_csv(train_save_path, index_col=0)\n",
    "val_df   = pd.read_csv(val_save_path, index_col=0)\n",
    "test_df  = pd.read_csv(test_save_path, index_col=0)\n",
    "\n",
    "#set X&y\n",
    "X_train = train_df.loc[:, train_df.columns != 'target'].values\n",
    "y_train  = train_df.loc[:, train_df.columns == 'target'].values\n",
    "\n",
    "X_val = val_df.loc[:, val_df.columns != 'target'].values\n",
    "y_val  = val_df.loc[:, val_df.columns == 'target'].values\n",
    "\n",
    "X_test = test_df.loc[:, test_df.columns != 'target'].values\n",
    "y_test  = test_df.loc[:, test_df.columns == 'target'].values"
   ]
  },
  {
   "cell_type": "code",
   "execution_count": null,
   "id": "7e597373-db37-4c90-81a3-00f429b6553e",
   "metadata": {},
   "outputs": [],
   "source": []
  },
  {
   "cell_type": "markdown",
   "id": "ac7b63ad-ca78-4b39-914c-754bbb0ab986",
   "metadata": {},
   "source": [
    "2. GAMA"
   ]
  },
  {
   "cell_type": "code",
   "execution_count": 7,
   "id": "0a08bb3c-ed8a-4f7f-a78a-b021888ae515",
   "metadata": {
    "tags": []
   },
   "outputs": [
    {
     "name": "stdout",
     "output_type": "stream",
     "text": [
      "accuracy: 0.7234352256186317\n",
      "log loss: 0.5251904964794663\n",
      "log_loss 0.5251904964794663\n"
     ]
    }
   ],
   "source": [
    "automl = GamaClassifier(max_total_time=180, store=\"nothing\")\n",
    "automl.fit(X_train, y_train)\n",
    "\n",
    "label_predictions = automl.predict(X_test)\n",
    "probability_predictions = automl.predict_proba(X_test)\n",
    "\n",
    "print('accuracy:', accuracy_score(y_test, label_predictions))\n",
    "print('log loss:', log_loss(y_test, probability_predictions))\n",
    "print('log_loss', automl.score(X_test, y_test))"
   ]
  },
  {
   "cell_type": "code",
   "execution_count": null,
   "id": "26139111-297c-4b3a-a9ce-677327a22e5d",
   "metadata": {},
   "outputs": [],
   "source": []
  }
 ],
 "metadata": {
  "kernelspec": {
   "display_name": "Python 3 (ipykernel)",
   "language": "python",
   "name": "python3"
  },
  "language_info": {
   "codemirror_mode": {
    "name": "ipython",
    "version": 3
   },
   "file_extension": ".py",
   "mimetype": "text/x-python",
   "name": "python",
   "nbconvert_exporter": "python",
   "pygments_lexer": "ipython3",
   "version": "3.7.16"
  }
 },
 "nbformat": 4,
 "nbformat_minor": 5
}
